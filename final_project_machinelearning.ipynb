{
 "cells": [
  {
   "cell_type": "markdown",
   "id": "zuT70FBj3dJM",
   "metadata": {
    "id": "zuT70FBj3dJM"
   },
   "source": [
    "<h1 style=\"color:#00FFFF;\">Heart Risk Prediction</h1>"
   ]
  },
  {
   "cell_type": "markdown",
   "id": "1cb19d9e-b38d-4085-8630-4af17c1038e5",
   "metadata": {},
   "source": [
    "\n",
    "Heart disease is one of the primary reasons for health complications, and early detection is essential. This project uses machine learning to forecast heart attack risk from important medical parameters like blood pressure, cholesterol levels, age, and lifestyle factors.\n",
    "\n",
    "With methods such as undersampling, SMOTE, ensemble learning, threshold tuning, and hyperparameter tuning, the model seeks to enhance precision and recall in high-risk patients. The final model, implemented through Streamlit, offers a user-friendly interface for risk evaluation."
   ]
  },
  {
   "cell_type": "code",
   "execution_count": 2,
   "id": "86123e02-c34b-4e3f-9401-a0d2115cb869",
   "metadata": {
    "id": "86123e02-c34b-4e3f-9401-a0d2115cb869"
   },
   "outputs": [],
   "source": [
    "import os\n",
    "os.environ[\"LOKY_MAX_CPU_COUNT\"] = \"4\"\n"
   ]
  },
  {
   "cell_type": "code",
   "execution_count": 3,
   "id": "600df52f-36d7-4b81-8416-f05061bcbcfb",
   "metadata": {
    "id": "600df52f-36d7-4b81-8416-f05061bcbcfb"
   },
   "outputs": [],
   "source": [
    "import numpy as np\n",
    "import pandas as pd\n",
    "import matplotlib.pyplot as plt\n",
    "import seaborn as sns\n",
    "import plotly.express as px\n",
    "%matplotlib inline\n",
    "from sklearn.model_selection import train_test_split, RandomizedSearchCV, GridSearchCV\n",
    "from sklearn.preprocessing import MinMaxScaler, StandardScaler, LabelEncoder\n",
    "from sklearn.linear_model import LogisticRegression\n",
    "from sklearn.svm import SVC\n",
    "from sklearn.neighbors import KNeighborsClassifier\n",
    "from sklearn.metrics import confusion_matrix, classification_report, accuracy_score, f1_score, recall_score, precision_score"
   ]
  },
  {
   "cell_type": "code",
   "execution_count": 4,
   "id": "f21d9583-82d7-4aec-99a0-e14a1e40a8a1",
   "metadata": {
    "id": "f21d9583-82d7-4aec-99a0-e14a1e40a8a1"
   },
   "outputs": [
    {
     "ename": "FileNotFoundError",
     "evalue": "[Errno 2] No such file or directory: 'heart_2022_with_nans UPDATED.csv'",
     "output_type": "error",
     "traceback": [
      "\u001b[1;31m---------------------------------------------------------------------------\u001b[0m",
      "\u001b[1;31mFileNotFoundError\u001b[0m                         Traceback (most recent call last)",
      "Cell \u001b[1;32mIn[4], line 1\u001b[0m\n\u001b[1;32m----> 1\u001b[0m df\u001b[38;5;241m=\u001b[39mpd\u001b[38;5;241m.\u001b[39mread_csv(\u001b[38;5;124m'\u001b[39m\u001b[38;5;124mheart_2022_with_nans UPDATED.csv\u001b[39m\u001b[38;5;124m'\u001b[39m)\n",
      "File \u001b[1;32m~\\anaconda3\\Lib\\site-packages\\pandas\\io\\parsers\\readers.py:1026\u001b[0m, in \u001b[0;36mread_csv\u001b[1;34m(filepath_or_buffer, sep, delimiter, header, names, index_col, usecols, dtype, engine, converters, true_values, false_values, skipinitialspace, skiprows, skipfooter, nrows, na_values, keep_default_na, na_filter, verbose, skip_blank_lines, parse_dates, infer_datetime_format, keep_date_col, date_parser, date_format, dayfirst, cache_dates, iterator, chunksize, compression, thousands, decimal, lineterminator, quotechar, quoting, doublequote, escapechar, comment, encoding, encoding_errors, dialect, on_bad_lines, delim_whitespace, low_memory, memory_map, float_precision, storage_options, dtype_backend)\u001b[0m\n\u001b[0;32m   1013\u001b[0m kwds_defaults \u001b[38;5;241m=\u001b[39m _refine_defaults_read(\n\u001b[0;32m   1014\u001b[0m     dialect,\n\u001b[0;32m   1015\u001b[0m     delimiter,\n\u001b[1;32m   (...)\u001b[0m\n\u001b[0;32m   1022\u001b[0m     dtype_backend\u001b[38;5;241m=\u001b[39mdtype_backend,\n\u001b[0;32m   1023\u001b[0m )\n\u001b[0;32m   1024\u001b[0m kwds\u001b[38;5;241m.\u001b[39mupdate(kwds_defaults)\n\u001b[1;32m-> 1026\u001b[0m \u001b[38;5;28;01mreturn\u001b[39;00m _read(filepath_or_buffer, kwds)\n",
      "File \u001b[1;32m~\\anaconda3\\Lib\\site-packages\\pandas\\io\\parsers\\readers.py:620\u001b[0m, in \u001b[0;36m_read\u001b[1;34m(filepath_or_buffer, kwds)\u001b[0m\n\u001b[0;32m    617\u001b[0m _validate_names(kwds\u001b[38;5;241m.\u001b[39mget(\u001b[38;5;124m\"\u001b[39m\u001b[38;5;124mnames\u001b[39m\u001b[38;5;124m\"\u001b[39m, \u001b[38;5;28;01mNone\u001b[39;00m))\n\u001b[0;32m    619\u001b[0m \u001b[38;5;66;03m# Create the parser.\u001b[39;00m\n\u001b[1;32m--> 620\u001b[0m parser \u001b[38;5;241m=\u001b[39m TextFileReader(filepath_or_buffer, \u001b[38;5;241m*\u001b[39m\u001b[38;5;241m*\u001b[39mkwds)\n\u001b[0;32m    622\u001b[0m \u001b[38;5;28;01mif\u001b[39;00m chunksize \u001b[38;5;129;01mor\u001b[39;00m iterator:\n\u001b[0;32m    623\u001b[0m     \u001b[38;5;28;01mreturn\u001b[39;00m parser\n",
      "File \u001b[1;32m~\\anaconda3\\Lib\\site-packages\\pandas\\io\\parsers\\readers.py:1620\u001b[0m, in \u001b[0;36mTextFileReader.__init__\u001b[1;34m(self, f, engine, **kwds)\u001b[0m\n\u001b[0;32m   1617\u001b[0m     \u001b[38;5;28mself\u001b[39m\u001b[38;5;241m.\u001b[39moptions[\u001b[38;5;124m\"\u001b[39m\u001b[38;5;124mhas_index_names\u001b[39m\u001b[38;5;124m\"\u001b[39m] \u001b[38;5;241m=\u001b[39m kwds[\u001b[38;5;124m\"\u001b[39m\u001b[38;5;124mhas_index_names\u001b[39m\u001b[38;5;124m\"\u001b[39m]\n\u001b[0;32m   1619\u001b[0m \u001b[38;5;28mself\u001b[39m\u001b[38;5;241m.\u001b[39mhandles: IOHandles \u001b[38;5;241m|\u001b[39m \u001b[38;5;28;01mNone\u001b[39;00m \u001b[38;5;241m=\u001b[39m \u001b[38;5;28;01mNone\u001b[39;00m\n\u001b[1;32m-> 1620\u001b[0m \u001b[38;5;28mself\u001b[39m\u001b[38;5;241m.\u001b[39m_engine \u001b[38;5;241m=\u001b[39m \u001b[38;5;28mself\u001b[39m\u001b[38;5;241m.\u001b[39m_make_engine(f, \u001b[38;5;28mself\u001b[39m\u001b[38;5;241m.\u001b[39mengine)\n",
      "File \u001b[1;32m~\\anaconda3\\Lib\\site-packages\\pandas\\io\\parsers\\readers.py:1880\u001b[0m, in \u001b[0;36mTextFileReader._make_engine\u001b[1;34m(self, f, engine)\u001b[0m\n\u001b[0;32m   1878\u001b[0m     \u001b[38;5;28;01mif\u001b[39;00m \u001b[38;5;124m\"\u001b[39m\u001b[38;5;124mb\u001b[39m\u001b[38;5;124m\"\u001b[39m \u001b[38;5;129;01mnot\u001b[39;00m \u001b[38;5;129;01min\u001b[39;00m mode:\n\u001b[0;32m   1879\u001b[0m         mode \u001b[38;5;241m+\u001b[39m\u001b[38;5;241m=\u001b[39m \u001b[38;5;124m\"\u001b[39m\u001b[38;5;124mb\u001b[39m\u001b[38;5;124m\"\u001b[39m\n\u001b[1;32m-> 1880\u001b[0m \u001b[38;5;28mself\u001b[39m\u001b[38;5;241m.\u001b[39mhandles \u001b[38;5;241m=\u001b[39m get_handle(\n\u001b[0;32m   1881\u001b[0m     f,\n\u001b[0;32m   1882\u001b[0m     mode,\n\u001b[0;32m   1883\u001b[0m     encoding\u001b[38;5;241m=\u001b[39m\u001b[38;5;28mself\u001b[39m\u001b[38;5;241m.\u001b[39moptions\u001b[38;5;241m.\u001b[39mget(\u001b[38;5;124m\"\u001b[39m\u001b[38;5;124mencoding\u001b[39m\u001b[38;5;124m\"\u001b[39m, \u001b[38;5;28;01mNone\u001b[39;00m),\n\u001b[0;32m   1884\u001b[0m     compression\u001b[38;5;241m=\u001b[39m\u001b[38;5;28mself\u001b[39m\u001b[38;5;241m.\u001b[39moptions\u001b[38;5;241m.\u001b[39mget(\u001b[38;5;124m\"\u001b[39m\u001b[38;5;124mcompression\u001b[39m\u001b[38;5;124m\"\u001b[39m, \u001b[38;5;28;01mNone\u001b[39;00m),\n\u001b[0;32m   1885\u001b[0m     memory_map\u001b[38;5;241m=\u001b[39m\u001b[38;5;28mself\u001b[39m\u001b[38;5;241m.\u001b[39moptions\u001b[38;5;241m.\u001b[39mget(\u001b[38;5;124m\"\u001b[39m\u001b[38;5;124mmemory_map\u001b[39m\u001b[38;5;124m\"\u001b[39m, \u001b[38;5;28;01mFalse\u001b[39;00m),\n\u001b[0;32m   1886\u001b[0m     is_text\u001b[38;5;241m=\u001b[39mis_text,\n\u001b[0;32m   1887\u001b[0m     errors\u001b[38;5;241m=\u001b[39m\u001b[38;5;28mself\u001b[39m\u001b[38;5;241m.\u001b[39moptions\u001b[38;5;241m.\u001b[39mget(\u001b[38;5;124m\"\u001b[39m\u001b[38;5;124mencoding_errors\u001b[39m\u001b[38;5;124m\"\u001b[39m, \u001b[38;5;124m\"\u001b[39m\u001b[38;5;124mstrict\u001b[39m\u001b[38;5;124m\"\u001b[39m),\n\u001b[0;32m   1888\u001b[0m     storage_options\u001b[38;5;241m=\u001b[39m\u001b[38;5;28mself\u001b[39m\u001b[38;5;241m.\u001b[39moptions\u001b[38;5;241m.\u001b[39mget(\u001b[38;5;124m\"\u001b[39m\u001b[38;5;124mstorage_options\u001b[39m\u001b[38;5;124m\"\u001b[39m, \u001b[38;5;28;01mNone\u001b[39;00m),\n\u001b[0;32m   1889\u001b[0m )\n\u001b[0;32m   1890\u001b[0m \u001b[38;5;28;01massert\u001b[39;00m \u001b[38;5;28mself\u001b[39m\u001b[38;5;241m.\u001b[39mhandles \u001b[38;5;129;01mis\u001b[39;00m \u001b[38;5;129;01mnot\u001b[39;00m \u001b[38;5;28;01mNone\u001b[39;00m\n\u001b[0;32m   1891\u001b[0m f \u001b[38;5;241m=\u001b[39m \u001b[38;5;28mself\u001b[39m\u001b[38;5;241m.\u001b[39mhandles\u001b[38;5;241m.\u001b[39mhandle\n",
      "File \u001b[1;32m~\\anaconda3\\Lib\\site-packages\\pandas\\io\\common.py:873\u001b[0m, in \u001b[0;36mget_handle\u001b[1;34m(path_or_buf, mode, encoding, compression, memory_map, is_text, errors, storage_options)\u001b[0m\n\u001b[0;32m    868\u001b[0m \u001b[38;5;28;01melif\u001b[39;00m \u001b[38;5;28misinstance\u001b[39m(handle, \u001b[38;5;28mstr\u001b[39m):\n\u001b[0;32m    869\u001b[0m     \u001b[38;5;66;03m# Check whether the filename is to be opened in binary mode.\u001b[39;00m\n\u001b[0;32m    870\u001b[0m     \u001b[38;5;66;03m# Binary mode does not support 'encoding' and 'newline'.\u001b[39;00m\n\u001b[0;32m    871\u001b[0m     \u001b[38;5;28;01mif\u001b[39;00m ioargs\u001b[38;5;241m.\u001b[39mencoding \u001b[38;5;129;01mand\u001b[39;00m \u001b[38;5;124m\"\u001b[39m\u001b[38;5;124mb\u001b[39m\u001b[38;5;124m\"\u001b[39m \u001b[38;5;129;01mnot\u001b[39;00m \u001b[38;5;129;01min\u001b[39;00m ioargs\u001b[38;5;241m.\u001b[39mmode:\n\u001b[0;32m    872\u001b[0m         \u001b[38;5;66;03m# Encoding\u001b[39;00m\n\u001b[1;32m--> 873\u001b[0m         handle \u001b[38;5;241m=\u001b[39m \u001b[38;5;28mopen\u001b[39m(\n\u001b[0;32m    874\u001b[0m             handle,\n\u001b[0;32m    875\u001b[0m             ioargs\u001b[38;5;241m.\u001b[39mmode,\n\u001b[0;32m    876\u001b[0m             encoding\u001b[38;5;241m=\u001b[39mioargs\u001b[38;5;241m.\u001b[39mencoding,\n\u001b[0;32m    877\u001b[0m             errors\u001b[38;5;241m=\u001b[39merrors,\n\u001b[0;32m    878\u001b[0m             newline\u001b[38;5;241m=\u001b[39m\u001b[38;5;124m\"\u001b[39m\u001b[38;5;124m\"\u001b[39m,\n\u001b[0;32m    879\u001b[0m         )\n\u001b[0;32m    880\u001b[0m     \u001b[38;5;28;01melse\u001b[39;00m:\n\u001b[0;32m    881\u001b[0m         \u001b[38;5;66;03m# Binary mode\u001b[39;00m\n\u001b[0;32m    882\u001b[0m         handle \u001b[38;5;241m=\u001b[39m \u001b[38;5;28mopen\u001b[39m(handle, ioargs\u001b[38;5;241m.\u001b[39mmode)\n",
      "\u001b[1;31mFileNotFoundError\u001b[0m: [Errno 2] No such file or directory: 'heart_2022_with_nans UPDATED.csv'"
     ]
    }
   ],
   "source": [
    "df=pd.read_csv('heart_2022_with_nans UPDATED.csv')"
   ]
  },
  {
   "cell_type": "code",
   "execution_count": null,
   "id": "e807e468-cb3f-4695-aa0d-28d26b69978d",
   "metadata": {
    "id": "e807e468-cb3f-4695-aa0d-28d26b69978d",
    "outputId": "e5fefa76-1e5a-47ca-ed4f-b83334d512fb"
   },
   "outputs": [],
   "source": [
    "df.head()"
   ]
  },
  {
   "cell_type": "code",
   "execution_count": null,
   "id": "802da8c9-4c65-4270-b2bb-a25296eba398",
   "metadata": {
    "id": "802da8c9-4c65-4270-b2bb-a25296eba398",
    "outputId": "45d65115-eb83-46a8-8037-8fc7ee98851c"
   },
   "outputs": [],
   "source": [
    "df.info()"
   ]
  },
  {
   "cell_type": "code",
   "execution_count": null,
   "id": "32e67100-5073-411d-89f1-abe575157143",
   "metadata": {
    "id": "32e67100-5073-411d-89f1-abe575157143",
    "outputId": "ee3b9d9e-e070-447a-ba15-8c8ee24d13f5"
   },
   "outputs": [],
   "source": [
    "df.shape"
   ]
  },
  {
   "cell_type": "code",
   "execution_count": null,
   "id": "7e334185-1756-45a2-b2ea-704548fe7342",
   "metadata": {
    "id": "7e334185-1756-45a2-b2ea-704548fe7342",
    "outputId": "bf6c6a1d-7b86-4f0a-b626-025e1660b48c"
   },
   "outputs": [],
   "source": [
    "df.columns"
   ]
  },
  {
   "cell_type": "code",
   "execution_count": null,
   "id": "fb2aaff0-6e88-4a9e-af75-5522d20b1085",
   "metadata": {
    "id": "fb2aaff0-6e88-4a9e-af75-5522d20b1085",
    "outputId": "b0f1e471-3ee2-4e88-9845-fd9565c40603"
   },
   "outputs": [],
   "source": [
    "missing_percentage = (df.isnull().sum() / len(df)) * 100\n",
    "plt.figure(figsize=(12, 6))\n",
    "sns.barplot(x=missing_percentage.index, y=missing_percentage.values)\n",
    "plt.xticks(rotation=90)\n",
    "plt.title('Percentage of Missing Values in Each Column')\n",
    "plt.ylabel('Percentage Missing')\n",
    "plt.show()"
   ]
  },
  {
   "cell_type": "code",
   "execution_count": null,
   "id": "ad28ae18-4bc6-48a1-808a-c1acd793a219",
   "metadata": {
    "id": "ad28ae18-4bc6-48a1-808a-c1acd793a219",
    "outputId": "a43ea62e-f9e6-4859-9f74-7c290dffab09"
   },
   "outputs": [],
   "source": [
    "df = df.dropna( subset=['HadHeartAttack'] )\n",
    "df.shape\n",
    "df"
   ]
  },
  {
   "cell_type": "code",
   "execution_count": null,
   "id": "db947d3c-ccf9-4143-a24b-b454306a3287",
   "metadata": {
    "id": "db947d3c-ccf9-4143-a24b-b454306a3287",
    "outputId": "29383697-be8d-40af-c500-6dc75494d5cc"
   },
   "outputs": [],
   "source": [
    "duplicate_rows = df[df.duplicated()]\n",
    "print(f\"Total duplicate rows: {len(duplicate_rows)}\")\n"
   ]
  },
  {
   "cell_type": "code",
   "execution_count": null,
   "id": "11122cc6-bd9b-458d-a684-240dd536a201",
   "metadata": {
    "id": "11122cc6-bd9b-458d-a684-240dd536a201",
    "outputId": "2aa39ea2-54a2-487e-d739-4d1d0f8a79c9"
   },
   "outputs": [],
   "source": [
    "duplicate_counts = {col: df[col].duplicated().sum() for col in df.columns}\n",
    "print(duplicate_counts)\n"
   ]
  },
  {
   "cell_type": "code",
   "execution_count": null,
   "id": "cc94b980-d0d3-4259-a6b3-dcb0715a6386",
   "metadata": {
    "id": "cc94b980-d0d3-4259-a6b3-dcb0715a6386",
    "outputId": "6153d96d-b79a-4158-dba9-b193ea90ecbb"
   },
   "outputs": [],
   "source": [
    "for col in df.columns:\n",
    "    print(f\"\\nColumn: {col}\")\n",
    "    print(df[col].value_counts())\n"
   ]
  },
  {
   "cell_type": "code",
   "execution_count": null,
   "id": "2fdaf7a2-4a71-4f9f-aebf-38a5d058de80",
   "metadata": {
    "id": "2fdaf7a2-4a71-4f9f-aebf-38a5d058de80",
    "outputId": "1576b1c0-5d5b-45ef-cb27-6c054bf77ac4"
   },
   "outputs": [],
   "source": [
    "df.describe(include='object')"
   ]
  },
  {
   "cell_type": "code",
   "execution_count": null,
   "id": "0e3550f7-7c87-4d17-91e0-d205d61749a8",
   "metadata": {
    "id": "0e3550f7-7c87-4d17-91e0-d205d61749a8",
    "outputId": "99bc1361-0bb2-4b02-f2a1-55b6bdbd1d0e"
   },
   "outputs": [],
   "source": [
    "for col in df.describe(include='object').columns:\n",
    "    print('Column Name: ',col)\n",
    "    print(df[col].unique())\n",
    "    print('-------------------------------------------------')"
   ]
  },
  {
   "cell_type": "code",
   "execution_count": null,
   "id": "01ae7c1f-4a9a-443d-b388-4132489ca1e4",
   "metadata": {
    "id": "01ae7c1f-4a9a-443d-b388-4132489ca1e4",
    "outputId": "b54a93eb-53ac-4725-d6ad-c1f84ad6726a"
   },
   "outputs": [],
   "source": [
    "df['HadDiabetes'] = df['HadDiabetes'].replace({\n",
    "    'No, pre-diabetes or borderline diabetes': 'Borderline',\n",
    "    'Yes, but only during pregnancy (female)': 'During Pregnancy'\n",
    "})\n",
    "\n",
    "\n",
    "df['HadDiabetes'].unique()"
   ]
  },
  {
   "cell_type": "code",
   "execution_count": null,
   "id": "e9d1084a-0e50-4994-8cfe-0f1c5cc4e3ef",
   "metadata": {
    "id": "e9d1084a-0e50-4994-8cfe-0f1c5cc4e3ef",
    "outputId": "45ed9cec-7bba-41fe-84cf-b2479a02cab7"
   },
   "outputs": [],
   "source": [
    "df.HadDiabetes"
   ]
  },
  {
   "cell_type": "code",
   "execution_count": null,
   "id": "d554162f-34b1-4cb8-a5a6-76a18ca4ef90",
   "metadata": {
    "id": "d554162f-34b1-4cb8-a5a6-76a18ca4ef90",
    "outputId": "a0d7bafe-0d3d-474b-d4c6-7a06985f07f7"
   },
   "outputs": [],
   "source": [
    "df['SmokerStatus'] = df['SmokerStatus'].replace({\n",
    "    'Current smoker - now smokes some days': 'Current smoker (Some days)',\n",
    "    'Current smoker - now smokes every day': 'Current smoker (Every day)'\n",
    "})\n",
    "\n",
    "df['SmokerStatus'].unique()  # Check unique values\n"
   ]
  },
  {
   "cell_type": "code",
   "execution_count": null,
   "id": "50f87c3f-aaa0-4c87-93de-29f19441ec08",
   "metadata": {
    "id": "50f87c3f-aaa0-4c87-93de-29f19441ec08",
    "outputId": "0abba852-e7ac-47ab-a0da-0ab9b493a589"
   },
   "outputs": [],
   "source": [
    "df['ECigaretteUsage'] = df['ECigaretteUsage'].replace({\n",
    "    'Not at all (right now)': 'Not at all',\n",
    "    'Never used e-cigarettes in my entire life': 'Never',\n",
    "    'Use them every day': 'Everyday',\n",
    "    'Use them some days': 'Somedays'\n",
    "})\n",
    "\n",
    "df['ECigaretteUsage'].unique()  # Check unique values\n"
   ]
  },
  {
   "cell_type": "code",
   "execution_count": null,
   "id": "76cd1929-ea59-4ffd-a4d4-4a5bae250f39",
   "metadata": {
    "id": "76cd1929-ea59-4ffd-a4d4-4a5bae250f39",
    "outputId": "0404eae2-44b1-4bc5-c90e-a441875ab959"
   },
   "outputs": [],
   "source": [
    "df"
   ]
  },
  {
   "cell_type": "code",
   "execution_count": null,
   "id": "ece400aa-0b31-495e-a619-88adf88cb4d3",
   "metadata": {
    "id": "ece400aa-0b31-495e-a619-88adf88cb4d3"
   },
   "outputs": [],
   "source": [
    "df['AgeCategory'] = df['AgeCategory'].astype(str)  # Convert NaNs to strings\n",
    "df['AgeCategory'] = (df['AgeCategory']\n",
    "                     .str.replace(\"Age \", \"\")\n",
    "                     .str.replace(\" or older\", \"+\")\n",
    "                     .str.replace(\" to \", \"-\")\n",
    "                     .str.strip())  # Remove spaces\n"
   ]
  },
  {
   "cell_type": "code",
   "execution_count": null,
   "id": "52ae8409-c1a8-4e82-b2ac-37d0f7eb2d41",
   "metadata": {
    "id": "52ae8409-c1a8-4e82-b2ac-37d0f7eb2d41",
    "outputId": "89a47f4f-c97f-4eef-c32c-52ea4b32ca16"
   },
   "outputs": [],
   "source": [
    "df.AgeCategory.unique()"
   ]
  },
  {
   "cell_type": "code",
   "execution_count": null,
   "id": "81ed2795-ccf3-4814-8751-936389300c3c",
   "metadata": {
    "id": "81ed2795-ccf3-4814-8751-936389300c3c"
   },
   "outputs": [],
   "source": [
    "def age_group(age):\n",
    "    young = ['18-24', '25-29', '30-34', '35-39']\n",
    "    middle_aged = ['40-44', '45-49', '50-54', '55-59']\n",
    "    old = ['60-64', '65-69', '70-74', '75-79', '80+']\n",
    "\n",
    "    if age in young:\n",
    "        return \"Young\"\n",
    "    elif age in middle_aged:\n",
    "        return \"Middle-aged\"\n",
    "    elif age in old:\n",
    "        return \"Old\"\n",
    "    else:\n",
    "        return \"Unknown\"  # Handles NaN or unexpected values"
   ]
  },
  {
   "cell_type": "code",
   "execution_count": null,
   "id": "8f787e1b-3000-4a4b-8890-0755aa8bf23b",
   "metadata": {
    "id": "8f787e1b-3000-4a4b-8890-0755aa8bf23b",
    "outputId": "a19b02f3-c10b-4dba-ff8a-3a94b9f16ad3"
   },
   "outputs": [],
   "source": [
    "df['AgeCategory'] = df['AgeCategory'].apply(age_group)\n",
    "\n",
    "# 4. Verify the unique values\n",
    "print(df['AgeCategory'].unique())\n"
   ]
  },
  {
   "cell_type": "code",
   "execution_count": null,
   "id": "c17dc189-1f74-4e41-9da4-3e0bade45035",
   "metadata": {
    "id": "c17dc189-1f74-4e41-9da4-3e0bade45035",
    "outputId": "997b43ff-56e6-46c9-f539-7f503aa8528a"
   },
   "outputs": [],
   "source": [
    "df.describe(include='object')"
   ]
  },
  {
   "cell_type": "code",
   "execution_count": null,
   "id": "aa7840a6-4050-4d37-9523-953d7cb27dc1",
   "metadata": {
    "id": "aa7840a6-4050-4d37-9523-953d7cb27dc1",
    "outputId": "ced07292-468c-4d58-ce23-bb0fbd28cbab"
   },
   "outputs": [],
   "source": [
    "df[df.duplicated()]"
   ]
  },
  {
   "cell_type": "code",
   "execution_count": null,
   "id": "81e89e6e-2064-42cd-ad35-ac8b2aded794",
   "metadata": {
    "id": "81e89e6e-2064-42cd-ad35-ac8b2aded794"
   },
   "outputs": [],
   "source": [
    "df.drop_duplicates(inplace=True)"
   ]
  },
  {
   "cell_type": "code",
   "execution_count": null,
   "id": "80c3baa4-2840-410d-9313-c58d4a28bf49",
   "metadata": {
    "id": "80c3baa4-2840-410d-9313-c58d4a28bf49",
    "outputId": "7a927493-ab32-46ee-cbb0-0d3bb6474444"
   },
   "outputs": [],
   "source": [
    "df.describe()\n"
   ]
  },
  {
   "cell_type": "markdown",
   "id": "A_yaZw5J35mQ",
   "metadata": {
    "id": "A_yaZw5J35mQ"
   },
   "source": [
    "\n",
    "# **Visualizations (histplot(), distplot(), countplot(), barplot())**\n",
    "\n",
    "\n",
    "---\n",
    "\n"
   ]
  },
  {
   "cell_type": "code",
   "execution_count": null,
   "id": "7ba26c56-ca40-4046-ad17-f56de056fed7",
   "metadata": {
    "id": "7ba26c56-ca40-4046-ad17-f56de056fed7",
    "outputId": "cc0f1dae-ff0b-475a-a9d0-d78c6060dfb4"
   },
   "outputs": [],
   "source": [
    "gender_count = df['Sex'].value_counts()\n",
    "plt.title(\"Gender Distribution\", fontsize = 12, weight='bold')\n",
    "plt.pie(gender_count,labels=gender_count.index,radius=1, autopct='%.2f%%')\n",
    "plt.show()"
   ]
  },
  {
   "cell_type": "code",
   "execution_count": null,
   "id": "07294362-76e3-4382-ac2e-400b964dcf5f",
   "metadata": {
    "id": "07294362-76e3-4382-ac2e-400b964dcf5f",
    "outputId": "3ce25fc0-54a2-4df8-f21a-66208f24d7eb"
   },
   "outputs": [],
   "source": [
    "plt.figure(figsize=(10, 5))\n",
    "sns.set(style='darkgrid')\n",
    "x = sns.countplot(data=df, x='AgeCategory')\n",
    "plt.title(\"Distribution of Age Category\", fontsize=12)\n",
    "plt.xlabel(\"Age Category\", fontsize=10)\n",
    "plt.ylabel(\"Individuals\", fontsize=10)\n",
    "for c in x.containers:\n",
    "    x.bar_label(c)\n",
    "\n",
    "plt.show()\n"
   ]
  },
  {
   "cell_type": "code",
   "execution_count": null,
   "id": "d4b369b5-a50b-4367-bd79-66b46399cfe1",
   "metadata": {
    "id": "d4b369b5-a50b-4367-bd79-66b46399cfe1",
    "outputId": "2ef91805-1314-4f9e-d0e1-ced444d7ab9b"
   },
   "outputs": [],
   "source": [
    "plt.figure(figsize=(5, 5))\n",
    "sns.set(style='darkgrid')\n",
    "x = sns.countplot(data=df, x='HadHeartAttack', hue='Sex', palette='viridis')\n",
    "plt.title(\"Prevalence of Heart Attacks Among Different Genders\", fontsize=12)\n",
    "plt.xlabel(\"Had Heart Attack\", fontsize=10)\n",
    "plt.ylabel(\"Individuals\", fontsize=10)\n",
    "for c in x.containers:\n",
    "    x.bar_label(c)\n",
    "\n",
    "plt.show()"
   ]
  },
  {
   "cell_type": "code",
   "execution_count": null,
   "id": "11906785-7b4f-465f-9d8b-3c9b1883ff49",
   "metadata": {
    "id": "11906785-7b4f-465f-9d8b-3c9b1883ff49",
    "outputId": "bd89e354-6d1b-4f6f-b910-9f5e13aba387"
   },
   "outputs": [],
   "source": [
    "plt.figure(figsize=(12, 6))\n",
    "sns.set(style='darkgrid')\n",
    "x = sns.countplot(data=df, x='AgeCategory', hue='HadHeartAttack', palette='viridis')\n",
    "plt.title(\"Prevalence of Heart Attacks Among Different Age Groups\", fontsize=12)\n",
    "plt.xlabel(\"Had Heart Attack\", fontsize=10)\n",
    "plt.ylabel(\"Individuals\", fontsize=10)\n",
    "for c in x.containers:\n",
    "    x.bar_label(c)\n",
    "\n",
    "plt.show()"
   ]
  },
  {
   "cell_type": "code",
   "execution_count": null,
   "id": "a95606e2-6e56-451b-bfde-1c32af923e1d",
   "metadata": {
    "id": "a95606e2-6e56-451b-bfde-1c32af923e1d"
   },
   "outputs": [],
   "source": [
    "df['HadObesity'] = df['BMI'].apply(lambda x: 'Yes' if x >=30 else 'No')"
   ]
  },
  {
   "cell_type": "code",
   "execution_count": null,
   "id": "f89ecb6f-fe68-4407-a044-47ae0c31f0b8",
   "metadata": {
    "id": "f89ecb6f-fe68-4407-a044-47ae0c31f0b8",
    "outputId": "4b297665-1cf8-4c96-ad2f-c78f648c3c92"
   },
   "outputs": [],
   "source": [
    "plt.figure(figsize=(15, 12))\n",
    "sns.set(style='darkgrid')\n",
    "risk_factors = ['PhysicalActivities', 'SmokerStatus', 'ECigaretteUsage', 'HadDiabetes', 'HadObesity']\n",
    "for i, risk_factor in enumerate(risk_factors, 1):\n",
    "    plt.subplot(3, 2, i)\n",
    "    x = sns.countplot(data=df, x=risk_factor, hue='Sex', palette='viridis')\n",
    "    plt.title(f\"{risk_factor} Among Different Genders\", fontsize=15)\n",
    "    plt.xlabel(risk_factor, fontsize=12)\n",
    "    plt.ylabel(\"Individuals\", fontsize=12)\n",
    "    for c in x.containers:\n",
    "        x.bar_label(c)\n",
    "plt.tight_layout()\n",
    "plt.show()"
   ]
  },
  {
   "cell_type": "code",
   "execution_count": null,
   "id": "e745f381-0c2a-44bb-afb5-ca979317e3c5",
   "metadata": {
    "id": "e745f381-0c2a-44bb-afb5-ca979317e3c5",
    "outputId": "5707b623-8021-45d3-c742-74396726c6be"
   },
   "outputs": [],
   "source": [
    "plt.figure(figsize=(13, 25))\n",
    "sns.set(style='darkgrid')\n",
    "risk_factors = ['PhysicalActivities', 'SmokerStatus', 'ECigaretteUsage', 'HadDiabetes', 'HadObesity']\n",
    "for i, risk_factor in enumerate(risk_factors, 1):\n",
    "    plt.subplot(5, 1, i)\n",
    "    x = sns.countplot(data=df, x='AgeCategory', hue=risk_factor)\n",
    "    plt.title(f\"{risk_factor} Among Different Age Groups\", fontsize=15)\n",
    "    plt.xlabel(\"Age Category\", fontsize=12)\n",
    "    plt.ylabel(\"Individuals\", fontsize=12)\n",
    "    for c in x.containers:\n",
    "        x.bar_label(c)\n",
    "plt.tight_layout()\n",
    "plt.show()\n"
   ]
  },
  {
   "cell_type": "markdown",
   "id": "Gns-evIA4Xh-",
   "metadata": {
    "id": "Gns-evIA4Xh-"
   },
   "source": [
    "# **Handle outliers (IQR method, Z-score, boxplot())**\n",
    "\n",
    "---\n",
    "\n"
   ]
  },
  {
   "cell_type": "code",
   "execution_count": null,
   "id": "f8e9368e-576b-4fc6-a815-11bdc21b04be",
   "metadata": {
    "id": "f8e9368e-576b-4fc6-a815-11bdc21b04be",
    "outputId": "40065d67-1c43-4833-d85e-49a97701cb33"
   },
   "outputs": [],
   "source": [
    "for col in df.describe().columns:\n",
    "    sns.set_style('ticks')\n",
    "    plt.figure(figsize=(16, 2))\n",
    "    sns.boxplot(data=df, x=col)\n",
    "    plt.show()"
   ]
  },
  {
   "cell_type": "code",
   "execution_count": null,
   "id": "698f44a4-c1cf-45eb-b0ac-3a41934d314f",
   "metadata": {
    "id": "698f44a4-c1cf-45eb-b0ac-3a41934d314f"
   },
   "outputs": [],
   "source": [
    "#Function for extracting outliers in column of dataframe\n",
    "def get_outliers(df, column):\n",
    "    Q1 = df[column].quantile(0.25)\n",
    "    Q3 = df[column].quantile(0.75)\n",
    "    IQR = Q3-Q1\n",
    "\n",
    "    lower_limit = Q1 - (IQR * 1.5)\n",
    "    upper_limit = Q3 + (IQR * 1.5)\n",
    "\n",
    "    outliers = df[(df[column] < lower_limit) | (df[column] > upper_limit)]\n",
    "\n",
    "    return outliers, lower_limit, upper_limit"
   ]
  },
  {
   "cell_type": "code",
   "execution_count": null,
   "id": "e6e44238-ae36-4c4a-bbc4-5ec072ae0d2d",
   "metadata": {
    "id": "e6e44238-ae36-4c4a-bbc4-5ec072ae0d2d",
    "outputId": "6b0d0b32-61a7-46fc-b033-ddc78faa9afa"
   },
   "outputs": [],
   "source": [
    "sleep_hours_outliers, lower_sleep, upper_sleep = get_outliers(df, 'SleepHours')\n",
    "sleep_hours_outliers"
   ]
  },
  {
   "cell_type": "code",
   "execution_count": null,
   "id": "01d24c7b-e23a-47a5-856d-d2c1c97ddb08",
   "metadata": {
    "id": "01d24c7b-e23a-47a5-856d-d2c1c97ddb08",
    "outputId": "f5763e61-7ba0-42b9-c701-a00f4a60eff6"
   },
   "outputs": [],
   "source": [
    "print(f\"Lower Limit:{lower_sleep})\\nUpper Limit:{upper_sleep})\")"
   ]
  },
  {
   "cell_type": "code",
   "execution_count": null,
   "id": "dad07f48-def3-44e4-9c1c-9b2eeb18a71a",
   "metadata": {
    "id": "dad07f48-def3-44e4-9c1c-9b2eeb18a71a",
    "outputId": "1707bd37-7859-4c84-81d5-821bfff28ed2"
   },
   "outputs": [],
   "source": [
    "# Dropping records with sleep less than 3 hours\n",
    "df = df.drop(df[df['SleepHours'] < 3].index)\n",
    "df.reset_index(drop=True, inplace=True)\n",
    "df.shape"
   ]
  },
  {
   "cell_type": "code",
   "execution_count": null,
   "id": "1c33fc80-67f0-4ab4-be2a-397569b4f247",
   "metadata": {
    "id": "1c33fc80-67f0-4ab4-be2a-397569b4f247",
    "outputId": "6d5d755b-9a30-4408-a19c-6ab4b1b3bb39"
   },
   "outputs": [],
   "source": [
    "df.info()"
   ]
  },
  {
   "cell_type": "code",
   "execution_count": null,
   "id": "f1e7682b-bd5a-489a-8b38-335f82ae689e",
   "metadata": {
    "id": "f1e7682b-bd5a-489a-8b38-335f82ae689e"
   },
   "outputs": [],
   "source": [
    "df.drop(columns=['LastCheckupTime'], inplace=True)\n"
   ]
  },
  {
   "cell_type": "code",
   "execution_count": null,
   "id": "d452649e-6ad0-409a-9c4e-e4f8611cd643",
   "metadata": {
    "id": "d452649e-6ad0-409a-9c4e-e4f8611cd643",
    "outputId": "7e79ab5e-4be8-4ed9-bf23-5c6e62a741b7"
   },
   "outputs": [],
   "source": [
    "columns_to_drop_na = ['GeneralHealth','PhysicalActivities','HadAngina','HadStroke','HadAsthma','HadSkinCancer',\n",
    "  'HadCOPD','HadDepressiveDisorder','HadKidneyDisease','HadArthritis','HadDiabetes','AgeCategory',\n",
    "  'MentalHealthDays','PhysicalHealthDays','SleepHours']\n",
    "\n",
    "df.dropna(subset=columns_to_drop_na, inplace=True)\n",
    "df.isna().sum()/len(df)*100\n"
   ]
  },
  {
   "cell_type": "code",
   "execution_count": null,
   "id": "b162fea2-9168-4e71-bb61-8272cf365451",
   "metadata": {
    "id": "b162fea2-9168-4e71-bb61-8272cf365451",
    "outputId": "222541f5-9f57-426e-9022-ba10c2795d03"
   },
   "outputs": [],
   "source": [
    "columns_with_nulls = df.columns[df.isnull().any()]\n",
    "columns_with_nulls"
   ]
  },
  {
   "cell_type": "code",
   "execution_count": null,
   "id": "b581a2da-b38a-47ac-adb6-706ee8604285",
   "metadata": {
    "id": "b581a2da-b38a-47ac-adb6-706ee8604285",
    "outputId": "e9c20814-1055-44b4-c2f0-350ee46be75d"
   },
   "outputs": [],
   "source": [
    "df.head()"
   ]
  },
  {
   "cell_type": "code",
   "execution_count": null,
   "id": "204b4962-f88e-4fb2-bc95-0ee1601e3407",
   "metadata": {
    "id": "204b4962-f88e-4fb2-bc95-0ee1601e3407",
    "outputId": "51f6b818-4258-4b09-c9dd-9eaaed6105b8"
   },
   "outputs": [],
   "source": [
    "columns_to_check = ['SmokerStatus', 'ECigaretteUsage', 'BMI', 'AlcoholDrinkers']\n",
    "\n",
    "# Display unique values for each column\n",
    "for col in columns_to_check:\n",
    "    if col in df.columns:\n",
    "        print(f\"Unique values in {col}: {df[col].unique()}\\n\")"
   ]
  },
  {
   "cell_type": "code",
   "execution_count": null,
   "id": "68744a23-5f97-45ed-8387-897afe0f553b",
   "metadata": {
    "id": "68744a23-5f97-45ed-8387-897afe0f553b",
    "outputId": "9a9880b0-7dca-46e8-f8a4-c2cf25c4ca54"
   },
   "outputs": [],
   "source": [
    "missing_percentage = (df.isnull().sum() / len(df)) * 100\n",
    "plt.figure(figsize=(12, 6))\n",
    "sns.barplot(x=missing_percentage.index, y=missing_percentage.values)\n",
    "plt.xticks(rotation=90)\n",
    "plt.title('Percentage of Missing Values in Each Column')\n",
    "plt.ylabel('Percentage Missing')\n",
    "plt.show()"
   ]
  },
  {
   "cell_type": "code",
   "execution_count": null,
   "id": "15a6dba3-eea1-4cbf-a72f-3af7e1833a8d",
   "metadata": {
    "id": "15a6dba3-eea1-4cbf-a72f-3af7e1833a8d",
    "outputId": "8e4b798b-2984-4cf6-c9d9-ce151f5a0e0b"
   },
   "outputs": [],
   "source": [
    "print(df.isna().sum())  # Should print 0 for all columns"
   ]
  },
  {
   "cell_type": "code",
   "execution_count": null,
   "id": "c67a2376-4ea1-4e1f-8afc-2ca73a3ef924",
   "metadata": {
    "id": "c67a2376-4ea1-4e1f-8afc-2ca73a3ef924"
   },
   "outputs": [],
   "source": [
    "columns_to_fill = ['SmokerStatus', 'ECigaretteUsage', 'AlcoholDrinkers']\n",
    "df[columns_to_fill] = df[columns_to_fill].fillna(\"Unknown\")\n"
   ]
  },
  {
   "cell_type": "code",
   "execution_count": null,
   "id": "1f126806-0aa9-476d-8f69-ee5dc61c41af",
   "metadata": {
    "id": "1f126806-0aa9-476d-8f69-ee5dc61c41af",
    "outputId": "fd8c64af-c53c-4172-c1a3-4557b1ff1199"
   },
   "outputs": [],
   "source": [
    "print(df.groupby('HadHeartAttack')[['BMI']].mean())\n"
   ]
  },
  {
   "cell_type": "code",
   "execution_count": null,
   "id": "5453c39e-fe1f-44b3-b8b7-c7b2d756fc3b",
   "metadata": {
    "id": "5453c39e-fe1f-44b3-b8b7-c7b2d756fc3b",
    "outputId": "e4a7de43-4df2-4d75-f178-254f8493823a"
   },
   "outputs": [],
   "source": [
    "import matplotlib.pyplot as plt\n",
    "\n",
    "# Plot histograms\n",
    "df[[ 'BMI']].hist(bins=30, figsize=(10, 4))\n",
    "\n",
    "plt.show()\n"
   ]
  },
  {
   "cell_type": "code",
   "execution_count": null,
   "id": "d0ff289f-28f5-425f-99b3-174f6cb489a0",
   "metadata": {
    "id": "d0ff289f-28f5-425f-99b3-174f6cb489a0",
    "outputId": "b0567eb3-554c-41eb-d69c-f5941447cabd"
   },
   "outputs": [],
   "source": [
    "print(df[[ 'BMI']].skew())\n"
   ]
  },
  {
   "cell_type": "code",
   "execution_count": null,
   "id": "60999a13-e1a9-4f03-91fb-53a20e0e3229",
   "metadata": {
    "id": "60999a13-e1a9-4f03-91fb-53a20e0e3229"
   },
   "outputs": [],
   "source": [
    "df['BMI'] = np.log1p(df['BMI'])  # Log transformation\n"
   ]
  },
  {
   "cell_type": "code",
   "execution_count": null,
   "id": "2d073d46-7878-4c80-a009-30321c5a5a95",
   "metadata": {
    "id": "2d073d46-7878-4c80-a009-30321c5a5a95",
    "outputId": "cb891afa-e09b-4a4c-8b8e-ae43c1d6166b"
   },
   "outputs": [],
   "source": [
    "Q1 = df['BMI'].quantile(0.25)\n",
    "Q3 = df['BMI'].quantile(0.75)\n",
    "IQR = Q3 - Q1\n",
    "lower_bound = Q1 - 1.5 * IQR\n",
    "upper_bound = Q3 + 1.5 * IQR\n",
    "outliers = df[(df['BMI'] < lower_bound) | (df['BMI'] > upper_bound)]\n",
    "print(outliers)\n"
   ]
  },
  {
   "cell_type": "code",
   "execution_count": null,
   "id": "c2ed09bb-956e-4913-aedd-197d5c53b831",
   "metadata": {
    "id": "c2ed09bb-956e-4913-aedd-197d5c53b831"
   },
   "outputs": [],
   "source": [
    "df['BMI'] = np.clip(df['BMI'], lower_bound, upper_bound)\n"
   ]
  },
  {
   "cell_type": "code",
   "execution_count": null,
   "id": "31fd0b74-bb9f-44f6-a914-fb0bd54504e2",
   "metadata": {
    "id": "31fd0b74-bb9f-44f6-a914-fb0bd54504e2",
    "outputId": "928c951f-233c-4832-cbd8-81430a9bc369"
   },
   "outputs": [],
   "source": [
    "import seaborn as sns\n",
    "\n",
    "# Plot boxplots\n",
    "plt.figure(figsize=(10, 4))\n",
    "sns.boxplot(data=df[[ 'BMI']])\n",
    "plt.show()\n"
   ]
  },
  {
   "cell_type": "code",
   "execution_count": null,
   "id": "47599ebe-5fc6-4cff-92ec-1779ba5f3eb1",
   "metadata": {
    "id": "47599ebe-5fc6-4cff-92ec-1779ba5f3eb1"
   },
   "outputs": [],
   "source": [
    "df['BMI'] = df['BMI'].fillna(df['BMI'].median())\n"
   ]
  },
  {
   "cell_type": "code",
   "execution_count": null,
   "id": "80aef6ce-c62c-45ea-8a50-20b060466128",
   "metadata": {
    "id": "80aef6ce-c62c-45ea-8a50-20b060466128",
    "outputId": "f29bb10a-4098-447d-d6c1-7ceb6c3e4b3e"
   },
   "outputs": [],
   "source": [
    "print(df.isna().sum())  # Should print 0 for all columns"
   ]
  },
  {
   "cell_type": "markdown",
   "id": "wu4C42lt5NCX",
   "metadata": {
    "id": "wu4C42lt5NCX"
   },
   "source": [
    "\n",
    "# **Feature correlation analysis (heatmap())**\n",
    "\n",
    "\n",
    "---\n",
    "\n"
   ]
  },
  {
   "cell_type": "code",
   "execution_count": null,
   "id": "abb27ee4-853c-451b-b343-27f09293ea4f",
   "metadata": {
    "id": "abb27ee4-853c-451b-b343-27f09293ea4f",
    "outputId": "ec55e76a-fb07-410f-9745-403bab106c21"
   },
   "outputs": [],
   "source": [
    "\n",
    "\n",
    "\n",
    "# Filter for numeric columns (int and float)\n",
    "numeric_df = df.select_dtypes(include=[np.number])\n",
    "\n",
    "# Calculate the correlation matrix\n",
    "correlation_matrix = numeric_df.corr()\n",
    "\n",
    "# Visualize the correlation matrix using a heatmap\n",
    "plt.figure(figsize=(12, 10))\n",
    "sns.heatmap(correlation_matrix, annot=True, cmap='coolwarm', fmt=\".2f\")\n",
    "plt.title('Correlation Matrix of Numeric Features')\n",
    "plt.show()\n"
   ]
  },
  {
   "cell_type": "code",
   "execution_count": null,
   "id": "7a970df3-46c5-42f1-904a-415a97b12663",
   "metadata": {
    "id": "7a970df3-46c5-42f1-904a-415a97b12663",
    "outputId": "2330c044-4335-4adf-d053-6a0d1fdff79a"
   },
   "outputs": [],
   "source": [
    "\n",
    "for col in df.describe(include='object').columns:\n",
    "    print('Column Name: ',col)\n",
    "    print(df[col].unique())\n",
    "    print('-------------------------------------------------')\n"
   ]
  },
  {
   "cell_type": "code",
   "execution_count": null,
   "id": "6be05c7f-41bd-4de7-bc1a-ad8c731a6772",
   "metadata": {
    "id": "6be05c7f-41bd-4de7-bc1a-ad8c731a6772",
    "outputId": "8573cd6b-c189-49c7-ceba-328d47a97a2a"
   },
   "outputs": [],
   "source": [
    "df.info()"
   ]
  },
  {
   "cell_type": "markdown",
   "id": "Y0CCCzku5fI4",
   "metadata": {
    "id": "Y0CCCzku5fI4"
   },
   "source": [
    "# **Feature engineering (One-hot encoding, Label encoding)**\n",
    "\n",
    "\n",
    "---\n",
    "\n"
   ]
  },
  {
   "cell_type": "code",
   "execution_count": null,
   "id": "d02bd936-0edf-4acf-9f86-4c6e6de57695",
   "metadata": {
    "id": "d02bd936-0edf-4acf-9f86-4c6e6de57695",
    "outputId": "81d14f1c-d643-4d5c-9601-904c3b28d060"
   },
   "outputs": [],
   "source": [
    "\n",
    "from sklearn.preprocessing import LabelEncoder\n",
    "\n",
    "\n",
    "# Initialize LabelEncoders for binary categorical columns\n",
    "sex_label = LabelEncoder()\n",
    "physical_activities_label = LabelEncoder()\n",
    "had_heart_attack_label = LabelEncoder()\n",
    "had_angina_label = LabelEncoder()\n",
    "had_stroke_label = LabelEncoder()\n",
    "had_asthma_label = LabelEncoder()\n",
    "had_skin_cancer_label = LabelEncoder()\n",
    "had_copd_label = LabelEncoder()\n",
    "had_depressive_disorder_label = LabelEncoder()\n",
    "had_kidney_disease_label = LabelEncoder()\n",
    "had_arthritis_label = LabelEncoder()\n",
    "had_obesity_label = LabelEncoder()\n",
    "\n",
    "# Fit the encoders\n",
    "sex_label.fit(df[\"Sex\"])\n",
    "physical_activities_label.fit(df[\"PhysicalActivities\"].astype(str))\n",
    "had_heart_attack_label.fit(df[\"HadHeartAttack\"].astype(str))\n",
    "had_angina_label.fit(df[\"HadAngina\"].astype(str))\n",
    "had_stroke_label.fit(df[\"HadStroke\"].astype(str))\n",
    "had_asthma_label.fit(df[\"HadAsthma\"].astype(str))\n",
    "had_skin_cancer_label.fit(df[\"HadSkinCancer\"].astype(str))\n",
    "had_copd_label.fit(df[\"HadCOPD\"].astype(str))\n",
    "had_depressive_disorder_label.fit(df[\"HadDepressiveDisorder\"].astype(str))\n",
    "had_kidney_disease_label.fit(df[\"HadKidneyDisease\"].astype(str))\n",
    "had_arthritis_label.fit(df[\"HadArthritis\"].astype(str))\n",
    "had_obesity_label.fit(df[\"HadObesity\"].astype(str))\n",
    "\n",
    "# Transform the data\n",
    "df[\"Sex\"] = sex_label.transform(df[\"Sex\"])\n",
    "df[\"PhysicalActivities\"] = physical_activities_label.transform(df[\"PhysicalActivities\"].astype(str))\n",
    "df[\"HadHeartAttack\"] = had_heart_attack_label.transform(df[\"HadHeartAttack\"].astype(str))\n",
    "df[\"HadAngina\"] = had_angina_label.transform(df[\"HadAngina\"].astype(str))\n",
    "df[\"HadStroke\"] = had_stroke_label.transform(df[\"HadStroke\"].astype(str))\n",
    "df[\"HadAsthma\"] = had_asthma_label.transform(df[\"HadAsthma\"].astype(str))\n",
    "df[\"HadSkinCancer\"] = had_skin_cancer_label.transform(df[\"HadSkinCancer\"].astype(str))\n",
    "df[\"HadCOPD\"] = had_copd_label.transform(df[\"HadCOPD\"].astype(str))\n",
    "df[\"HadDepressiveDisorder\"] = had_depressive_disorder_label.transform(df[\"HadDepressiveDisorder\"].astype(str))\n",
    "df[\"HadKidneyDisease\"] = had_kidney_disease_label.transform(df[\"HadKidneyDisease\"].astype(str))\n",
    "df[\"HadArthritis\"] = had_arthritis_label.transform(df[\"HadArthritis\"].astype(str))\n",
    "df[\"HadObesity\"] = had_obesity_label.transform(df[\"HadObesity\"].astype(str))\n",
    "\n",
    "\n",
    "\n",
    "# Display sample data\n",
    "df.head()"
   ]
  },
  {
   "cell_type": "code",
   "execution_count": null,
   "id": "a7829ec8-d6f8-424e-a111-27c4f6145f0f",
   "metadata": {
    "id": "a7829ec8-d6f8-424e-a111-27c4f6145f0f",
    "outputId": "adaeaee3-a873-4029-9f8a-cba452ea0e67"
   },
   "outputs": [],
   "source": [
    "df.info()"
   ]
  },
  {
   "cell_type": "code",
   "execution_count": null,
   "id": "013e8e5a-4051-4619-8aa0-ee87ead7b707",
   "metadata": {
    "id": "013e8e5a-4051-4619-8aa0-ee87ead7b707",
    "outputId": "68dff54b-c20d-48ad-af7d-843d3c5f59fe"
   },
   "outputs": [],
   "source": [
    "from sklearn.preprocessing import OneHotEncoder\n",
    "\n",
    "\n",
    "\n",
    "\n",
    "# Initialize OneHotEncoders for multi-category categorical features\n",
    "general_health_ohe = OneHotEncoder(sparse_output=False, drop=\"first\")\n",
    "had_diabetes_ohe = OneHotEncoder(sparse_output=False, handle_unknown=\"ignore\")\n",
    "smoker_status_ohe = OneHotEncoder(sparse_output=False, handle_unknown=\"ignore\")\n",
    "e_cigarette_usage_ohe = OneHotEncoder(sparse_output=False, handle_unknown=\"ignore\")\n",
    "age_category_ohe = OneHotEncoder(sparse_output=False, drop=\"first\")\n",
    "alcohol_drinkers_ohe = OneHotEncoder(sparse_output=False, handle_unknown=\"ignore\")\n",
    "\n",
    "# Apply OneHotEncoding to each feature\n",
    "general_health_encoded = general_health_ohe.fit_transform(df[[\"GeneralHealth\"]])\n",
    "had_diabetes_encoded = had_diabetes_ohe.fit_transform(df[[\"HadDiabetes\"]])\n",
    "smoker_status_encoded = smoker_status_ohe.fit_transform(df[[\"SmokerStatus\"]])\n",
    "e_cigarette_usage_encoded = e_cigarette_usage_ohe.fit_transform(df[[\"ECigaretteUsage\"]])\n",
    "age_category_encoded = age_category_ohe.fit_transform(df[[\"AgeCategory\"]])\n",
    "alcohol_drinkers_encoded = alcohol_drinkers_ohe.fit_transform(df[[\"AlcoholDrinkers\"]])\n",
    "\n",
    "# Convert encoded arrays into DataFrames with proper column names\n",
    "general_health_df = pd.DataFrame(general_health_encoded, columns=general_health_ohe.get_feature_names_out([\"GeneralHealth\"]))\n",
    "had_diabetes_df = pd.DataFrame(had_diabetes_encoded, columns=had_diabetes_ohe.get_feature_names_out([\"HadDiabetes\"]))\n",
    "smoker_status_df = pd.DataFrame(smoker_status_encoded, columns=smoker_status_ohe.get_feature_names_out([\"SmokerStatus\"]))\n",
    "e_cigarette_usage_df = pd.DataFrame(e_cigarette_usage_encoded, columns=e_cigarette_usage_ohe.get_feature_names_out([\"ECigaretteUsage\"]))\n",
    "age_category_df = pd.DataFrame(age_category_encoded, columns=age_category_ohe.get_feature_names_out([\"AgeCategory\"]))\n",
    "alcohol_drinkers_df = pd.DataFrame(alcohol_drinkers_encoded, columns=alcohol_drinkers_ohe.get_feature_names_out([\"AlcoholDrinkers\"]))\n",
    "\n",
    "# Reset index before concatenation to ensure alignment\n",
    "df = df.reset_index(drop=True)\n",
    "general_health_df = general_health_df.reset_index(drop=True)\n",
    "had_diabetes_df = had_diabetes_df.reset_index(drop=True)\n",
    "smoker_status_df = smoker_status_df.reset_index(drop=True)\n",
    "e_cigarette_usage_df = e_cigarette_usage_df.reset_index(drop=True)\n",
    "age_category_df = age_category_df.reset_index(drop=True)\n",
    "alcohol_drinkers_df = alcohol_drinkers_df.reset_index(drop=True)\n",
    "\n",
    "# Concatenate original DataFrame with encoded features\n",
    "df = pd.concat([\n",
    "    df, general_health_df, had_diabetes_df, smoker_status_df,\n",
    "    e_cigarette_usage_df, age_category_df,\n",
    "    alcohol_drinkers_df\n",
    "], axis=1)\n",
    "\n",
    "# Drop original categorical columns\n",
    "df.drop(columns=[\"GeneralHealth\", \"HadDiabetes\", \"SmokerStatus\", \"ECigaretteUsage\",\n",
    "                  \"AgeCategory\", \"AlcoholDrinkers\"], inplace=True)\n",
    "\n",
    "\n",
    "\n",
    "# Display first few rows\n",
    "df.head()\n"
   ]
  },
  {
   "cell_type": "code",
   "execution_count": null,
   "id": "2834b60b-2eae-4e6c-ae2d-86c905e11cb3",
   "metadata": {
    "id": "2834b60b-2eae-4e6c-ae2d-86c905e11cb3",
    "outputId": "78b7d3a6-389c-4756-c845-843f1ac930fc"
   },
   "outputs": [],
   "source": [
    "\n",
    "corr_matrix=df.corr()\n",
    "\n",
    "target_corr=corr_matrix[\"HadHeartAttack\"].sort_values(ascending=False)\n",
    "\n",
    "print(target_corr)\n",
    "\n",
    "x = df.drop(['HadHeartAttack'], axis=1)\n",
    "y = df['HadHeartAttack']"
   ]
  },
  {
   "cell_type": "code",
   "execution_count": null,
   "id": "93ca7df5-3a22-4106-b5cc-23c0d0618331",
   "metadata": {
    "id": "93ca7df5-3a22-4106-b5cc-23c0d0618331",
    "outputId": "0776d8e1-98ca-4e94-af82-fe65b86a350b"
   },
   "outputs": [],
   "source": [
    "# Find features with low absolute correlation (< 0.02)\n",
    "low_corr_features = df.corr()[\"HadHeartAttack\"].abs().sort_values()\n",
    "low_corr_features = low_corr_features[low_corr_features < 0.02].index.tolist()\n",
    "\n",
    "print(\"Features with very low correlation:\", low_corr_features)\n"
   ]
  },
  {
   "cell_type": "code",
   "execution_count": null,
   "id": "48274b45-f853-4631-a974-f6235958cc97",
   "metadata": {
    "id": "48274b45-f853-4631-a974-f6235958cc97",
    "outputId": "a1f2b85a-b091-4984-f0ea-d24078d1fc33"
   },
   "outputs": [],
   "source": [
    "# Updated list of low-correlation features (excluding important ones)\n",
    "low_corr_features = [\n",
    "    'CovidPos_Unknown', 'ECigaretteUsage_Not at all',\n",
    "    'AlcoholDrinkers_Unknown', 'SmokerStatus_Unknown', 'AgeCategory_Unknown',\n",
    "    'SmokerStatus_Current smoker(Some days)', 'ECigaretteUsage_Unknown', 'GeneralHealth_Good', 'ECigaretteUsage_Never',\n",
    "    'ECigaretteUsage_Somedays', 'ECigaretteUsage_Everyday'\n",
    "]\n",
    "\n",
    "# Drop only the columns that exist in the DataFrame (avoids KeyErrors)\n",
    "df = df.drop(columns=[col for col in low_corr_features if col in df.columns])\n",
    "\n",
    "# Print remaining columns to verify\n",
    "print(\"Remaining Features after dropping low-correlation ones:\", df.columns)\n"
   ]
  },
  {
   "cell_type": "code",
   "execution_count": null,
   "id": "85d832e3-d348-4f80-8d73-1aa16663bb14",
   "metadata": {
    "id": "85d832e3-d348-4f80-8d73-1aa16663bb14",
    "outputId": "80a31634-bf77-4006-a9fd-23cdaba618ef"
   },
   "outputs": [],
   "source": [
    "\n",
    "for col in df.describe().columns:\n",
    "    print('Column Name: ',col)\n",
    "    print(df[col].unique())\n",
    "    print('-------------------------------------------------')\n"
   ]
  },
  {
   "cell_type": "code",
   "execution_count": null,
   "id": "0241bf14-d107-4e35-a5c4-c3cdab847d0b",
   "metadata": {
    "id": "0241bf14-d107-4e35-a5c4-c3cdab847d0b",
    "outputId": "0691d9e9-ce33-4670-ae92-4205b17c094f"
   },
   "outputs": [],
   "source": [
    "# Compute correlation of all features with the target\n",
    "correlation = df.corr()['HadHeartAttack'].abs().sort_values(ascending=False)\n",
    "\n",
    "# Display top correlated features\n",
    "print(\"📊 Features with Highest Correlation:\\n\", correlation.head(20))\n"
   ]
  },
  {
   "cell_type": "markdown",
   "id": "DdE764Hz5tlF",
   "metadata": {
    "id": "DdE764Hz5tlF"
   },
   "source": [
    "# **Sampling**\n",
    "\n",
    "\n",
    "---\n",
    "\n"
   ]
  },
  {
   "cell_type": "code",
   "execution_count": null,
   "id": "b9bd09ba-573c-43dc-933d-7dc75bbfb638",
   "metadata": {
    "id": "b9bd09ba-573c-43dc-933d-7dc75bbfb638",
    "outputId": "e06895b0-ba5d-42e1-bcb4-bdd706c5999a"
   },
   "outputs": [],
   "source": [
    "import pandas as pd\n",
    "\n",
    "# Load your dataset (assuming df contains \"HadHeartAttack\" column)\n",
    "class_0 = df[df[\"HadHeartAttack\"] == 0].sample(n=30000, random_state=42)  # Take equal samples\n",
    "class_1 = df[df[\"HadHeartAttack\"] == 1]  # Keep all minority class samples\n",
    "\n",
    "# Combine the balanced dataset\n",
    "df_balanced = pd.concat([class_0, class_1]).sample(frac=1, random_state=42).reset_index(drop=True)\n",
    "\n",
    "# Check new class distribution\n",
    "print(df_balanced[\"HadHeartAttack\"].value_counts())\n",
    "\n"
   ]
  },
  {
   "cell_type": "markdown",
   "id": "clDAyHas5_eh",
   "metadata": {
    "id": "clDAyHas5_eh"
   },
   "source": [
    "# **Train-Test Split (train_test_split())**\n",
    "\n",
    "\n",
    "---\n",
    "\n"
   ]
  },
  {
   "cell_type": "code",
   "execution_count": null,
   "id": "13af0c94-7ef8-4956-99fd-ada24ba73edb",
   "metadata": {
    "id": "13af0c94-7ef8-4956-99fd-ada24ba73edb",
    "outputId": "e4082340-6313-40c1-f9e8-35b600073263"
   },
   "outputs": [],
   "source": [
    "from sklearn.model_selection import train_test_split\n",
    "\n",
    "# ✅ Separate features and target\n",
    "x = df_balanced.drop(columns=[\"HadHeartAttack\"])  # Features\n",
    "y = df_balanced[\"HadHeartAttack\"]  # Target variable\n",
    "\n",
    "# ✅ Train-test split (80-20 split, stratified to maintain class balance)\n",
    "x_train, x_test, y_train, y_test = train_test_split(\n",
    "    x, y, test_size=0.2, random_state=42, stratify=y\n",
    ")\n",
    "\n",
    "# 🔹 Check new class distribution in train & test sets\n",
    "print(\"Train class distribution:\\n\", y_train.value_counts())\n",
    "print(\"Test class distribution:\\n\", y_test.value_counts())\n",
    "\n",
    "# 🔹 Print shapes\n",
    "print(f\"X_train shape: {x_train.shape}, X_test shape: {x_test.shape}\")\n",
    "print(f\"y_train shape: {y_train.shape}, y_test shape: {y_test.shape}\")\n"
   ]
  },
  {
   "cell_type": "markdown",
   "id": "_Lcdue4R6MfJ",
   "metadata": {
    "id": "_Lcdue4R6MfJ"
   },
   "source": [
    "# **Handling Imbalanced Data (SMOTE) and Feature selection**\n",
    "\n",
    "\n",
    "---\n",
    "\n"
   ]
  },
  {
   "cell_type": "code",
   "execution_count": null,
   "id": "52720a6c-3a59-45bc-bda6-838855822a03",
   "metadata": {
    "id": "52720a6c-3a59-45bc-bda6-838855822a03",
    "outputId": "1d9026fc-fe78-4032-c82d-b41bf5a9038f"
   },
   "outputs": [],
   "source": [
    "from imblearn.over_sampling import SMOTE\n",
    "from sklearn.ensemble import RandomForestClassifier\n",
    "import pandas as pd\n",
    "\n",
    "# ✅ Apply SMOTE only on training data\n",
    "smote = SMOTE(random_state=42)\n",
    "x_train_smote, y_train_smote = smote.fit_resample(x_train, y_train)\n",
    "\n",
    "# ✅ Train a Random Forest model on SMOTE-applied data\n",
    "rf_model = RandomForestClassifier(n_estimators=100, random_state=42)\n",
    "rf_model.fit(x_train_smote, y_train_smote)\n",
    "\n",
    "# ✅ Get feature importances\n",
    "feature_importances = pd.Series(rf_model.feature_importances_, index=x_train.columns)\n",
    "\n",
    "# ✅ Select the top 10 most important features\n",
    "top_10_features = feature_importances.nlargest(10).index.tolist()\n",
    "\n",
    "print(\"Top 10 Features:\", top_10_features)\n"
   ]
  },
  {
   "cell_type": "markdown",
   "id": "-aDs7QPz6eZa",
   "metadata": {
    "id": "-aDs7QPz6eZa"
   },
   "source": [
    "# **Standardization (StandardScaler)**\n",
    "\n",
    "\n",
    "---\n",
    "\n"
   ]
  },
  {
   "cell_type": "code",
   "execution_count": null,
   "id": "13957ed6-4b44-417e-b29d-d3e4e9120ee4",
   "metadata": {
    "id": "13957ed6-4b44-417e-b29d-d3e4e9120ee4",
    "outputId": "fd650fb9-93ca-4c44-8518-e7e80c57536a"
   },
   "outputs": [],
   "source": [
    "from sklearn.preprocessing import StandardScaler\n",
    "\n",
    "# ✅ Initialize scaler\n",
    "scaler = StandardScaler()\n",
    "\n",
    "# ✅ Select only top 10 features from SMOTE-applied data\n",
    "x_train_selected = x_train_smote[top_10_features]\n",
    "x_test_selected = x_test[top_10_features]\n",
    "\n",
    "# ✅ Fit scaler on training data and transform both train & test\n",
    "x_train_scaled = scaler.fit_transform(x_train_selected)\n",
    "x_test_scaled = scaler.transform(x_test_selected)\n",
    "\n",
    "# ✅ Convert back to DataFrame\n",
    "import pandas as pd\n",
    "x_train_scaled = pd.DataFrame(x_train_scaled, columns=top_10_features)\n",
    "x_test_scaled = pd.DataFrame(x_test_scaled, columns=top_10_features)\n",
    "\n",
    "print(\"Scaling complete! Your data is ready for model training. 🚀\")\n"
   ]
  },
  {
   "cell_type": "markdown",
   "id": "GHIu8BV76qbf",
   "metadata": {
    "id": "GHIu8BV76qbf"
   },
   "source": [
    "# **Hyperparameter Tuning(Random Search (RandomizedSearchCV))**\n",
    "\n",
    "\n",
    "---\n",
    "\n"
   ]
  },
  {
   "cell_type": "code",
   "execution_count": null,
   "id": "3cf49563-1977-4278-a618-59f4ccb3af70",
   "metadata": {
    "id": "3cf49563-1977-4278-a618-59f4ccb3af70",
    "outputId": "99246493-d59b-4850-fe9b-48eaf63c6a59"
   },
   "outputs": [],
   "source": [
    "import pandas as pd\n",
    "import xgboost as xgb\n",
    "from sklearn.linear_model import LogisticRegression\n",
    "from sklearn.ensemble import RandomForestClassifier, GradientBoostingClassifier, AdaBoostClassifier\n",
    "from sklearn.svm import SVC\n",
    "from sklearn.neighbors import KNeighborsClassifier\n",
    "from sklearn.naive_bayes import GaussianNB\n",
    "from sklearn.model_selection import RandomizedSearchCV\n",
    "from sklearn.metrics import accuracy_score, precision_score, recall_score, f1_score, confusion_matrix\n",
    "\n",
    "# ✅ Define models\n",
    "models = {\n",
    "    'Logistic Regression': LogisticRegression(),\n",
    "    'Random Forest': RandomForestClassifier(),\n",
    "    'Gradient Boosting': GradientBoostingClassifier(),\n",
    "    'SVM': SVC(),\n",
    "    'KNN': KNeighborsClassifier(),\n",
    "    'Naive Bayes': GaussianNB(),\n",
    "    'AdaBoost': AdaBoostClassifier(),\n",
    "    'XGBoost': xgb.XGBClassifier(use_label_encoder=False, eval_metric='logloss')\n",
    "}\n",
    "\n",
    "# ✅ Define hyperparameter grids\n",
    "param_grids = {\n",
    "    'Logistic Regression': {'C': [0.001, 0.01, 0.1, 1, 10, 100], 'solver': ['liblinear', 'saga'], 'penalty': ['l1', 'l2']},\n",
    "    'Random Forest': {'n_estimators': [100, 200, 300], 'max_depth': [10, 20, None], 'min_samples_split': [2, 5, 10], 'min_samples_leaf': [1, 2, 4]},\n",
    "    'Gradient Boosting': {'n_estimators': [50, 100, 150], 'learning_rate': [0.01, 0.1, 0.2], 'max_depth': [3, 5, 7]},\n",
    "    'SVM': {'C': [0.1, 1, 10], 'kernel': ['linear', 'rbf'], 'gamma': ['scale', 'auto']},\n",
    "    'KNN': {'n_neighbors': [3, 5, 7], 'weights': ['uniform', 'distance'], 'metric': ['euclidean', 'manhattan']},\n",
    "    'AdaBoost': {'n_estimators': [50, 100, 150], 'learning_rate': [0.5, 1.0]},\n",
    "    'XGBoost': {'n_estimators': [50, 100, 150], 'learning_rate': [0.01, 0.1, 0.2], 'max_depth': [3, 5, 7], 'subsample': [0.8, 1.0]}\n",
    "}\n",
    "\n",
    "# ✅ Store results\n",
    "results = []\n",
    "\n",
    "# ✅ Loop through models\n",
    "for model_name, model in models.items():\n",
    "    print(f\"🔍 Training {model_name}...\")\n",
    "\n",
    "    # Check if model has hyperparameters to tune\n",
    "    if model_name in param_grids:\n",
    "        randomized_search = RandomizedSearchCV(\n",
    "            estimator=model,\n",
    "            param_distributions=param_grids[model_name],\n",
    "            n_iter=10, cv=3, scoring='f1', random_state=42, n_jobs=-1, verbose=1\n",
    "        )\n",
    "    else:\n",
    "        randomized_search = model  # No tuning for Naive Bayes\n",
    "\n",
    "    # ✅ Fit model\n",
    "    if model_name in param_grids:\n",
    "        randomized_search.fit(x_train_scaled, y_train_smote)\n",
    "        best_model = randomized_search.best_estimator_\n",
    "        best_params = randomized_search.best_params_\n",
    "    else:\n",
    "        best_model.fit(x_train_scaled, y_train_smote)\n",
    "        best_params = \"N/A\"\n",
    "\n",
    "    # ✅ Predictions\n",
    "    y_train_pred = best_model.predict(x_train_scaled)\n",
    "    y_test_pred = best_model.predict(x_test_scaled)\n",
    "\n",
    "    # ✅ Store metrics\n",
    "    metrics = {\n",
    "        'Model': model_name,\n",
    "        'Best Params': best_params,\n",
    "        'Train Accuracy': accuracy_score(y_train_smote, y_train_pred),\n",
    "        'Test Accuracy': accuracy_score(y_test, y_test_pred),\n",
    "        'Train Precision': precision_score(y_train_smote, y_train_pred),\n",
    "        'Test Precision': precision_score(y_test, y_test_pred),\n",
    "        'Train Recall': recall_score(y_train_smote, y_train_pred),\n",
    "        'Test Recall': recall_score(y_test, y_test_pred),\n",
    "        'Train F1': f1_score(y_train_smote, y_train_pred),\n",
    "        'Test F1': f1_score(y_test, y_test_pred),\n",
    "        'Confusion Matrix': confusion_matrix(y_test, y_test_pred)\n",
    "    }\n",
    "\n",
    "    results.append(metrics)\n",
    "\n",
    "# ✅ Convert to DataFrame\n",
    "results_df = pd.DataFrame(results)\n",
    "print(\"\\n✅ Model training & tuning complete! Here's the summary:\\n\")\n",
    "print(results_df)\n"
   ]
  },
  {
   "cell_type": "markdown",
   "id": "kbH3KiPE64XO",
   "metadata": {
    "id": "kbH3KiPE64XO"
   },
   "source": []
  },
  {
   "cell_type": "markdown",
   "id": "uCkQfB4K65lP",
   "metadata": {
    "id": "uCkQfB4K65lP"
   },
   "source": [
    "**1.LogisticRegression**"
   ]
  },
  {
   "cell_type": "code",
   "execution_count": null,
   "id": "a279e046-18e8-46c2-ac30-024814fe2db2",
   "metadata": {
    "id": "a279e046-18e8-46c2-ac30-024814fe2db2",
    "outputId": "208e5c5d-557c-4fbc-8b66-b1ddc6aba36f"
   },
   "outputs": [],
   "source": [
    "from sklearn.linear_model import LogisticRegression\n",
    "from sklearn.model_selection import RandomizedSearchCV\n",
    "from sklearn.metrics import accuracy_score, precision_score, recall_score, f1_score\n",
    "\n",
    "# Initialize model\n",
    "lr = LogisticRegression()\n",
    "\n",
    "# Define hyperparameter grid\n",
    "lr_param_grid = {\n",
    "    'C': [0.001, 0.01, 0.1, 1, 10, 100, 1000, 10000],\n",
    "    'solver': ['liblinear', 'saga'],\n",
    "    'penalty': ['l1', 'l2']\n",
    "}\n",
    "#lr_param_grids = {\n",
    "#    'C': np.logspace(-4, 4, 20),  # More granular values\n",
    "#    'solver': ['liblinear', 'saga', 'lbfgs', 'newton-cg'],\n",
    "#'penalty': ['l1', 'l2', 'elasticnet'],\n",
    "#'l1_ratio': np.linspace(0, 1, 5)  # Only used for elasticnet\n",
    "#\n",
    "\n",
    "\n",
    "\n",
    "# Hyperparameter tuning\n",
    "randomized_search_lr = RandomizedSearchCV(\n",
    "    estimator=lr,\n",
    "    param_distributions=lr_param_grid,\n",
    "    n_iter=10,\n",
    "    cv=3,\n",
    "    verbose=1,\n",
    "    random_state=42,\n",
    "    n_jobs=-1\n",
    ")\n",
    "\n",
    "# Fit model\n",
    "randomized_search_lr.fit(x_train_scaled, y_train_smote)\n",
    "\n",
    "# Get best model\n",
    "lr_best_model = randomized_search_lr.best_estimator_\n",
    "\n",
    "# Predictions\n",
    "y_train_pred_log = lr_best_model.predict(x_train_scaled)\n",
    "y_test_pred_log = lr_best_model.predict(x_test_scaled)\n",
    "\n"
   ]
  },
  {
   "cell_type": "code",
   "execution_count": null,
   "id": "c0e318cd-fc78-450b-a6a7-b3e68c4bf5dd",
   "metadata": {
    "id": "c0e318cd-fc78-450b-a6a7-b3e68c4bf5dd",
    "outputId": "3056ecb7-7f47-4f5b-a58e-29a28722dd19"
   },
   "outputs": [],
   "source": [
    "print('Training :\\n',classification_report(y_train_smote, y_train_pred_log))"
   ]
  },
  {
   "cell_type": "code",
   "execution_count": null,
   "id": "a5b80801-a614-4bfe-a2dd-156b3f429ccd",
   "metadata": {
    "id": "a5b80801-a614-4bfe-a2dd-156b3f429ccd",
    "outputId": "e0ecbaa2-bcbc-41b8-94a2-31fa72c1d613"
   },
   "outputs": [],
   "source": [
    "print('Testing :\\n',classification_report(y_test, y_test_pred_log))"
   ]
  },
  {
   "cell_type": "code",
   "execution_count": null,
   "id": "a043ac16-60d3-4c78-a042-861bd920f779",
   "metadata": {
    "id": "a043ac16-60d3-4c78-a042-861bd920f779",
    "outputId": "19edf745-313a-40ae-f4b1-5871c8ff83e4"
   },
   "outputs": [],
   "source": [
    "print(confusion_matrix(y_test, y_test_pred_log))"
   ]
  },
  {
   "cell_type": "code",
   "execution_count": null,
   "id": "f53919d1-77af-4fc7-ae3f-090348b69558",
   "metadata": {
    "id": "f53919d1-77af-4fc7-ae3f-090348b69558",
    "outputId": "94b742a5-80d8-405f-e2d2-387baa012fe9"
   },
   "outputs": [],
   "source": [
    "from sklearn.metrics import precision_recall_curve\n",
    "\n",
    "y_probs = xgb_best_model.predict_proba(x_test_scaled)[:, 1]  # Get probability for class 1\n",
    "precision, recall, thresholds = precision_recall_curve(y_test, y_probs)\n",
    "\n",
    "# Compute F1-score for each threshold\n",
    "f1_scores = (2 * precision * recall) / (precision + recall)\n",
    "best_threshold = thresholds[np.argmax(f1_scores)]  # Choose threshold with best F1-score\n",
    "\n",
    "# Apply new threshold\n",
    "y_test_pred_adjusted = (y_probs >= best_threshold).astype(int)\n",
    "\n",
    "# Evaluate the model\n",
    "from sklearn.metrics import classification_report, confusion_matrix\n",
    "print(classification_report(y_test, y_test_pred_adjusted))\n",
    "print(confusion_matrix(y_test, y_test_pred_adjusted))\n"
   ]
  },
  {
   "cell_type": "markdown",
   "id": "7QtdzwqG68VM",
   "metadata": {
    "id": "7QtdzwqG68VM"
   },
   "source": [
    "**2.RandomForestClassifier**"
   ]
  },
  {
   "cell_type": "code",
   "execution_count": null,
   "id": "2ba788a6-c728-49b1-afc1-b721d160e026",
   "metadata": {
    "id": "2ba788a6-c728-49b1-afc1-b721d160e026",
    "outputId": "2afe15dd-dd24-4ff9-8dc3-4b858787eda4"
   },
   "outputs": [],
   "source": [
    "rf = RandomForestClassifier()\n",
    "rf_param_grids = {\n",
    "                    'n_estimators': [50, 100, 200, 300],\n",
    "                    'max_depth': [10, 20, 30, None],\n",
    "                    'min_samples_split': [2, 5, 10],\n",
    "                    'min_samples_leaf': [1, 2, 4],\n",
    "                    'bootstrap': [True, False]\n",
    "               }\n",
    "\n",
    "randomized_search_rf = RandomizedSearchCV(\n",
    "    estimator=rf,\n",
    "    param_distributions=rf_param_grids,\n",
    "    n_iter=10,\n",
    "    cv=3,\n",
    "    verbose=1,\n",
    "    random_state=42,\n",
    "    n_jobs=-1)\n",
    "\n",
    "randomized_search_rf.fit(x_train_scaled, y_train_smote)\n",
    "\n",
    "rf_best_model = randomized_search_rf.best_estimator_\n",
    "\n",
    "y_train_pred_rf = rf_best_model.predict(x_train_scaled)\n",
    "y_test_pred_rf = rf_best_model.predict(x_test_scaled)"
   ]
  },
  {
   "cell_type": "code",
   "execution_count": null,
   "id": "f2ea5f9c-30d8-4911-834a-a612f3076923",
   "metadata": {
    "id": "f2ea5f9c-30d8-4911-834a-a612f3076923",
    "outputId": "33048d99-3435-47f1-a665-1cc317567526"
   },
   "outputs": [],
   "source": [
    "print('Training :\\n',classification_report(y_train_smote, y_train_pred_rf))"
   ]
  },
  {
   "cell_type": "code",
   "execution_count": null,
   "id": "bad7c86a-adc1-4923-aaf3-88786512a434",
   "metadata": {
    "id": "bad7c86a-adc1-4923-aaf3-88786512a434",
    "outputId": "d43c2a32-ed15-49d1-f207-d2bcf8e92f94"
   },
   "outputs": [],
   "source": [
    "print('Testing :\\n',classification_report(y_test, y_test_pred_rf))"
   ]
  },
  {
   "cell_type": "code",
   "execution_count": null,
   "id": "786b89ab-a072-4fd3-9ec2-32f536d27ff9",
   "metadata": {
    "id": "786b89ab-a072-4fd3-9ec2-32f536d27ff9",
    "outputId": "a8758d21-6f98-4b7f-b12e-e9fe9539f7fd"
   },
   "outputs": [],
   "source": [
    "print(confusion_matrix(y_test, y_test_pred_rf))"
   ]
  },
  {
   "cell_type": "markdown",
   "id": "1Jz8NcCQ7CQU",
   "metadata": {
    "id": "1Jz8NcCQ7CQU"
   },
   "source": [
    "**3.Gradient boosting**"
   ]
  },
  {
   "cell_type": "code",
   "execution_count": null,
   "id": "77046fd5-fe1a-4d0c-8780-4a977c22abca",
   "metadata": {
    "id": "77046fd5-fe1a-4d0c-8780-4a977c22abca",
    "outputId": "8e0cc55e-d706-4ae0-f9da-42d27b58e039"
   },
   "outputs": [],
   "source": [
    "from sklearn.ensemble import GradientBoostingClassifier\n",
    "from sklearn.model_selection import RandomizedSearchCV\n",
    "from sklearn.metrics import accuracy_score, precision_score, recall_score, f1_score\n",
    "\n",
    "# Initialize model\n",
    "gb = GradientBoostingClassifier()\n",
    "\n",
    "# Define hyperparameter grid\n",
    "gb_param_grid = {\n",
    "    'n_estimators': [100, 200, 300],\n",
    "    'learning_rate': [0.01, 0.05, 0.1],\n",
    "    'max_depth': [3, 4, 5],\n",
    "    'min_samples_split': [10, 20, 50],\n",
    "    'min_samples_leaf': [5, 10],\n",
    "    'subsample': [0.7, 0.8, 0.9]\n",
    "}\n",
    "\n",
    "\n",
    "\n",
    "# Hyperparameter tuning\n",
    "randomized_search_gb = RandomizedSearchCV(\n",
    "    estimator=gb,\n",
    "    param_distributions=gb_param_grid,\n",
    "    n_iter=30,  # More iterations for better tuning\n",
    "    cv=5,  # Increase cross-validation folds for better generalization\n",
    "    scoring='f1',  # Focus on F1-score for imbalanced data\n",
    "    verbose=2,\n",
    "    random_state=42,\n",
    "    n_jobs=-1\n",
    ")\n",
    "\n",
    "\n",
    "# Fit model\n",
    "randomized_search_gb.fit(x_train_scaled, y_train_smote)\n",
    "\n",
    "# Get best model\n",
    "gb_best_model = randomized_search_gb.best_estimator_\n",
    "\n",
    "# Predictions\n",
    "y_train_pred_gb = gb_best_model.predict(x_train_scaled)\n",
    "y_test_pred_gb = gb_best_model.predict(x_test_scaled)\n",
    "\n",
    "\n"
   ]
  },
  {
   "cell_type": "code",
   "execution_count": null,
   "id": "2fdb26cd-6ba9-44ee-84c5-589d67b9fc70",
   "metadata": {
    "id": "2fdb26cd-6ba9-44ee-84c5-589d67b9fc70",
    "outputId": "38c1fdea-f087-4437-e292-f3b36a1b2682"
   },
   "outputs": [],
   "source": [
    "import numpy as np\n",
    "import matplotlib.pyplot as plt\n",
    "from sklearn.metrics import precision_recall_curve, classification_report, confusion_matrix\n",
    "\n",
    "# Get predicted probabilities for the positive class\n",
    "y_probs = gb_best_model.predict_proba(x_test_scaled)[:, 1]\n",
    "\n",
    "# Compute precision-recall curve\n",
    "precision, recall, thresholds = precision_recall_curve(y_test, y_probs)\n",
    "\n",
    "# Compute F1-score for each threshold\n",
    "f1_scores = 2 * (precision * recall) / (precision + recall + 1e-9)  # Avoid division by zero\n",
    "\n",
    "# Find the best threshold based on the highest F1-score\n",
    "best_threshold = thresholds[np.argmax(f1_scores)]\n",
    "\n",
    "# Apply the new threshold\n",
    "y_test_pred_adjusted = (y_probs >= best_threshold).astype(int)\n",
    "\n",
    "# Plot Precision-Recall vs. Threshold Curve\n",
    "plt.figure(figsize=(8,6))\n",
    "plt.plot(thresholds, precision[:-1], label='Precision', linestyle='--', marker='o')\n",
    "plt.plot(thresholds, recall[:-1], label='Recall', linestyle='--', marker='o')\n",
    "plt.plot(thresholds, f1_scores[:-1], label='F1-score', linestyle='-', marker='x', color='green')\n",
    "plt.axvline(best_threshold, color='red', linestyle='dashed', label=f'Best Threshold = {best_threshold:.2f}')\n",
    "plt.xlabel(\"Threshold\")\n",
    "plt.ylabel(\"Score\")\n",
    "plt.title(\"Precision, Recall & F1-score vs Threshold\")\n",
    "plt.legend()\n",
    "plt.grid()\n",
    "plt.show()\n",
    "\n",
    "# Evaluate results\n",
    "print(f\"Best Threshold: {best_threshold:.2f}\\n\")\n",
    "print(\"Updated Classification Report:\\n\", classification_report(y_test, y_test_pred_adjusted))\n",
    "print(\"Updated Confusion Matrix:\\n\", confusion_matrix(y_test, y_test_pred_adjusted))\n"
   ]
  },
  {
   "cell_type": "code",
   "execution_count": null,
   "id": "15196509-1788-459b-828f-362cf427254f",
   "metadata": {
    "id": "15196509-1788-459b-828f-362cf427254f",
    "outputId": "bde5e632-f003-454c-d3d7-f7b1d39121d4"
   },
   "outputs": [],
   "source": [
    "print('Training :\\n',classification_report(y_train_smote, y_train_pred_gb))"
   ]
  },
  {
   "cell_type": "code",
   "execution_count": null,
   "id": "23f4c834-f5b1-4aa1-a398-8de265f14b84",
   "metadata": {
    "id": "23f4c834-f5b1-4aa1-a398-8de265f14b84",
    "outputId": "ace22a28-8dfc-4d0a-cf40-adf572587e04"
   },
   "outputs": [],
   "source": [
    "print('Testing :\\n',classification_report(y_test, y_test_pred_gb))"
   ]
  },
  {
   "cell_type": "code",
   "execution_count": null,
   "id": "7e2ec4e8-d9bd-45a8-88a2-a600015d2a44",
   "metadata": {
    "id": "7e2ec4e8-d9bd-45a8-88a2-a600015d2a44",
    "outputId": "c580621c-7989-4918-fd78-12086358b3fb"
   },
   "outputs": [],
   "source": [
    "print(confusion_matrix(y_test, y_test_pred_gb))"
   ]
  },
  {
   "cell_type": "markdown",
   "id": "MY2D7cqj7GK2",
   "metadata": {
    "id": "MY2D7cqj7GK2"
   },
   "source": [
    "**4.GaussianNB**"
   ]
  },
  {
   "cell_type": "code",
   "execution_count": null,
   "id": "59de4591-c316-4819-9513-c34422ac3692",
   "metadata": {
    "id": "59de4591-c316-4819-9513-c34422ac3692",
    "outputId": "fdf1912d-f018-4b87-ed0a-2b6b08d1132a",
    "scrolled": true
   },
   "outputs": [],
   "source": [
    "gnb = GaussianNB()\n",
    "gnb_param_grids = {\n",
    "                  }\n",
    "\n",
    "randomized_search_gnb = RandomizedSearchCV(\n",
    "    estimator=gnb,\n",
    "    param_distributions=gnb_param_grids,\n",
    "    n_iter=10,\n",
    "    cv=3,\n",
    "    verbose=1,\n",
    "    random_state=42,\n",
    "    n_jobs=-1)\n",
    "\n",
    "randomized_search_gnb.fit(x_train_scaled, y_train_smote)\n",
    "\n",
    "gnb_best_model = randomized_search_gnb.best_estimator_\n",
    "\n",
    "y_train_pred_gnb = gnb_best_model.predict(x_train_scaled)\n",
    "y_test_pred_gnb = gnb_best_model.predict(x_test_scaled)"
   ]
  },
  {
   "cell_type": "code",
   "execution_count": null,
   "id": "0fa22626-f609-4812-a591-5566177c64ff",
   "metadata": {
    "id": "0fa22626-f609-4812-a591-5566177c64ff",
    "outputId": "f8edfc89-29db-4460-ea1e-1dd7b5ba02f7"
   },
   "outputs": [],
   "source": [
    "print('Training :\\n',classification_report(y_train_smote, y_train_pred_gnb))"
   ]
  },
  {
   "cell_type": "code",
   "execution_count": null,
   "id": "b9b555fc-d645-478d-8d05-a68ea27f0c27",
   "metadata": {
    "id": "b9b555fc-d645-478d-8d05-a68ea27f0c27",
    "outputId": "d962471f-e010-4f75-b2be-9dfce0abe2d6"
   },
   "outputs": [],
   "source": [
    "print('Testing :\\n',classification_report(y_test, y_test_pred_gnb))"
   ]
  },
  {
   "cell_type": "code",
   "execution_count": null,
   "id": "dda2f081-139b-489f-bbd0-6bb05efca6d5",
   "metadata": {
    "id": "dda2f081-139b-489f-bbd0-6bb05efca6d5",
    "outputId": "59acedb7-2bb3-4c33-b14b-711670945f56"
   },
   "outputs": [],
   "source": [
    "print(confusion_matrix(y_test, y_test_pred_gnb))"
   ]
  },
  {
   "cell_type": "markdown",
   "id": "YJqvitIL7I7y",
   "metadata": {
    "id": "YJqvitIL7I7y"
   },
   "source": [
    "**5.KNN**"
   ]
  },
  {
   "cell_type": "code",
   "execution_count": null,
   "id": "3b0eae16-df72-407e-8769-295d9e5a3671",
   "metadata": {
    "id": "3b0eae16-df72-407e-8769-295d9e5a3671",
    "outputId": "e7726d0a-5cc2-4f5c-d5ca-7152e2d217dd"
   },
   "outputs": [],
   "source": [
    "from sklearn.neighbors import KNeighborsClassifier\n",
    "\n",
    "# Initialize model\n",
    "knn = KNeighborsClassifier()\n",
    "\n",
    "# Define hyperparameter grid\n",
    "knn_param_grid = {\n",
    "    'n_neighbors': [3, 5, 7, 9, 11],\n",
    "    'weights': ['uniform', 'distance'],\n",
    "    'metric': ['euclidean', 'manhattan', 'minkowski']\n",
    "}\n",
    "\n",
    "# Hyperparameter tuning\n",
    "randomized_search_knn = RandomizedSearchCV(\n",
    "    estimator=knn,\n",
    "    param_distributions=knn_param_grid,\n",
    "    n_iter=10,\n",
    "    cv=3,\n",
    "    verbose=1,\n",
    "    random_state=42,\n",
    "    n_jobs=-1\n",
    ")\n",
    "\n",
    "# Fit model\n",
    "randomized_search_knn.fit(x_train_scaled, y_train_smote)\n",
    "\n",
    "# Get best model\n",
    "knn_best_model = randomized_search_knn.best_estimator_\n",
    "\n",
    "y_train_pred_knn = knn_best_model.predict(x_train_scaled)\n",
    "y_test_pred_knn = knn_best_model.predict(x_test_scaled)\n"
   ]
  },
  {
   "cell_type": "code",
   "execution_count": null,
   "id": "f48e4d4f-5e66-46fa-aece-7526f140268f",
   "metadata": {
    "id": "f48e4d4f-5e66-46fa-aece-7526f140268f",
    "outputId": "46359c51-4845-4726-90ba-de18aa9c6278"
   },
   "outputs": [],
   "source": [
    "print('Training :\\n',classification_report(y_train_smote, y_train_pred_knn))"
   ]
  },
  {
   "cell_type": "code",
   "execution_count": null,
   "id": "b62ec9db-0d10-4823-98bb-cd798c357291",
   "metadata": {
    "id": "b62ec9db-0d10-4823-98bb-cd798c357291",
    "outputId": "4c86a9cd-7629-44f2-9840-aa0f1a998590"
   },
   "outputs": [],
   "source": [
    "print('Testing :\\n',classification_report(y_test, y_test_pred_knn))"
   ]
  },
  {
   "cell_type": "code",
   "execution_count": null,
   "id": "fe6778c3-ddb3-4a56-acea-473d9d545e2f",
   "metadata": {
    "id": "fe6778c3-ddb3-4a56-acea-473d9d545e2f",
    "outputId": "dd8f3adb-36f7-497f-863b-74cc050e5c1c"
   },
   "outputs": [],
   "source": [
    "print(confusion_matrix(y_test, y_test_pred_knn))"
   ]
  },
  {
   "cell_type": "markdown",
   "id": "SQJ4GU4M7L7Q",
   "metadata": {
    "id": "SQJ4GU4M7L7Q"
   },
   "source": [
    "**6.ADAboost**"
   ]
  },
  {
   "cell_type": "code",
   "execution_count": null,
   "id": "98c1dfd4-4d58-4b18-a60a-dc42c8b3c42e",
   "metadata": {
    "id": "98c1dfd4-4d58-4b18-a60a-dc42c8b3c42e",
    "outputId": "d5c927dc-f50a-4294-8296-9bae19fad9d0"
   },
   "outputs": [],
   "source": [
    "from sklearn.ensemble import AdaBoostClassifier\n",
    "from sklearn.model_selection import RandomizedSearchCV\n",
    "from sklearn.metrics import accuracy_score, precision_score, recall_score, f1_score\n",
    "\n",
    "# Initialize AdaBoost classifier\n",
    "abc = AdaBoostClassifier()\n",
    "\n",
    "# Define hyperparameter grid (Removed 'algorithm')\n",
    "abc_param_grids = {\n",
    "    'n_estimators': [50, 100, 150, 200],\n",
    "    'learning_rate': [0.01, 0.05, 0.1, 0.5, 1.0, 1.5]\n",
    "}\n",
    "\n",
    "# Hyperparameter tuning with RandomizedSearchCV\n",
    "randomized_search_abc = RandomizedSearchCV(\n",
    "    estimator=abc,\n",
    "    param_distributions=abc_param_grids,\n",
    "    n_iter=10,\n",
    "    cv=3,\n",
    "    verbose=1,\n",
    "    random_state=42,\n",
    "    n_jobs=-1,\n",
    "    error_score='raise'  # Raises errors instead of setting NaN scores\n",
    ")\n",
    "\n",
    "# Fit the model\n",
    "randomized_search_abc.fit(x_train_scaled, y_train_smote)\n",
    "\n",
    "# Get best model\n",
    "abc_best_model = randomized_search_abc.best_estimator_\n",
    "\n",
    "# Predictions\n",
    "y_train_pred_ada = abc_best_model.predict(x_train_scaled)\n",
    "y_test_pred_ada = abc_best_model.predict(x_test_scaled)\n",
    "\n"
   ]
  },
  {
   "cell_type": "code",
   "execution_count": null,
   "id": "815b31ae-4659-4074-91e6-55e8b33b61f6",
   "metadata": {
    "id": "815b31ae-4659-4074-91e6-55e8b33b61f6",
    "outputId": "43383f54-a9f0-4791-eb5e-35e2eff724a9"
   },
   "outputs": [],
   "source": [
    "print('Training :\\n',classification_report(y_train_smote, y_train_pred_ada))"
   ]
  },
  {
   "cell_type": "code",
   "execution_count": null,
   "id": "56457504-d68a-4225-935a-aac08eaf3ad2",
   "metadata": {
    "id": "56457504-d68a-4225-935a-aac08eaf3ad2",
    "outputId": "5410da7c-8ba2-480b-d6e8-4519f7fdd38c"
   },
   "outputs": [],
   "source": [
    "print('Testing :\\n',classification_report(y_test, y_test_pred_ada))"
   ]
  },
  {
   "cell_type": "code",
   "execution_count": null,
   "id": "42923d0b-7caa-4334-b14c-e11e70d0ce1a",
   "metadata": {
    "id": "42923d0b-7caa-4334-b14c-e11e70d0ce1a",
    "outputId": "a79eab51-4708-4ee6-b4a1-5bfbd14ea32a"
   },
   "outputs": [],
   "source": [
    "print(confusion_matrix(y_test, y_test_pred_ada))"
   ]
  },
  {
   "cell_type": "markdown",
   "id": "TTNKSwZv7On1",
   "metadata": {
    "id": "TTNKSwZv7On1"
   },
   "source": [
    "**7.XGboost**"
   ]
  },
  {
   "cell_type": "code",
   "execution_count": null,
   "id": "8ba42de6-75b1-4312-b989-8d22bad588cd",
   "metadata": {
    "id": "8ba42de6-75b1-4312-b989-8d22bad588cd",
    "outputId": "449514f5-367e-4c26-bfa9-27e7875391be"
   },
   "outputs": [],
   "source": [
    "import xgboost as xgb\n",
    "from sklearn.model_selection import RandomizedSearchCV\n",
    "\n",
    "# Initialize XGBoost classifier\n",
    "xgb_clf = xgb.XGBClassifier(use_label_encoder=False, eval_metric='logloss', random_state=42)\n",
    "\n",
    "# Define hyperparameter grid\n",
    "xgb_param_grid = {\n",
    "    'n_estimators': [50, 100, 200, 300],\n",
    "    'max_depth': [3, 5, 7, 10],\n",
    "    'learning_rate': [0.01, 0.05, 0.1, 0.2],\n",
    "    'subsample': [0.6, 0.8, 1.0],\n",
    "    'colsample_bytree': [0.6, 0.8, 1.0],\n",
    "    'gamma': [0, 0.1, 0.2, 0.3],\n",
    "    'reg_alpha': [0, 0.01, 0.1, 1],\n",
    "    'reg_lambda': [0, 0.01, 0.1, 1]\n",
    "}\n",
    "\n",
    "# Perform Randomized Search CV\n",
    "randomized_search_xgb = RandomizedSearchCV(\n",
    "    estimator=xgb_clf,\n",
    "    param_distributions=xgb_param_grid,\n",
    "    n_iter=10,  # Number of random combinations to try\n",
    "    cv=3,       # 3-fold cross-validation\n",
    "    verbose=1,\n",
    "    random_state=42,\n",
    "    n_jobs=-1\n",
    ")\n",
    "\n",
    "# Fit model on resampled training data\n",
    "randomized_search_xgb.fit(x_train_scaled, y_train_smote)\n",
    "\n",
    "# Best model after hyperparameter tuning\n",
    "xgb_best_model = randomized_search_xgb.best_estimator_\n",
    "\n",
    "# Predictions\n",
    "y_train_pred_xgb = xgb_best_model.predict(x_train_scaled)\n",
    "y_test_pred_xgb = xgb_best_model.predict(x_test_scaled)\n"
   ]
  },
  {
   "cell_type": "code",
   "execution_count": null,
   "id": "d71215a0-14af-43d9-9c95-fa201d60d857",
   "metadata": {
    "id": "d71215a0-14af-43d9-9c95-fa201d60d857",
    "outputId": "fc1583e3-f28c-4147-a867-003687dffa97"
   },
   "outputs": [],
   "source": [
    "print('Training :\\n',classification_report(y_train_smote, y_train_pred_xgb))"
   ]
  },
  {
   "cell_type": "code",
   "execution_count": null,
   "id": "e4cfb7eb-b71d-4c5c-970d-424098cf4803",
   "metadata": {
    "id": "e4cfb7eb-b71d-4c5c-970d-424098cf4803",
    "outputId": "dd6f787c-21d4-48af-ee81-5a804324a5a1"
   },
   "outputs": [],
   "source": [
    "print('Testing :\\n',classification_report(y_test, y_test_pred_xgb))"
   ]
  },
  {
   "cell_type": "code",
   "execution_count": null,
   "id": "84308bce-0416-4864-ab8e-299d427af002",
   "metadata": {
    "id": "84308bce-0416-4864-ab8e-299d427af002",
    "outputId": "9a7843d5-fa35-41e5-d1fd-021f29c9eb31"
   },
   "outputs": [],
   "source": [
    "print(confusion_matrix(y_test, y_test_pred_xgb))"
   ]
  },
  {
   "cell_type": "code",
   "execution_count": null,
   "id": "e0f88a83-2e14-452a-8738-5f233d4cdf23",
   "metadata": {
    "id": "e0f88a83-2e14-452a-8738-5f233d4cdf23",
    "outputId": "945c8fb2-14e8-4002-d4fc-5ae6d2a57f1c"
   },
   "outputs": [],
   "source": [
    "from sklearn.metrics import precision_recall_curve, classification_report, confusion_matrix\n",
    "import numpy as np\n",
    "\n",
    "# Get probability scores\n",
    "y_probs = xgb_best_model.predict_proba(x_test_scaled)[:, 1]\n",
    "\n",
    "# Compute precision-recall curve\n",
    "precision, recall, thresholds = precision_recall_curve(y_test, y_probs)\n",
    "\n",
    "# Find the best threshold using F1-score\n",
    "f1_scores = 2 * (precision * recall) / (precision + recall + 1e-9)  # Avoid division by zero\n",
    "best_threshold = thresholds[np.argmax(f1_scores)]  # Select threshold that maximizes F1-score\n",
    "\n",
    "# Apply new threshold\n",
    "y_test_pred_adjusted = (y_probs >= best_threshold).astype(int)\n",
    "\n",
    "# Evaluate\n",
    "print(\"Testing Results After Threshold Adjustment:\")\n",
    "print(classification_report(y_test, y_test_pred_adjusted))\n",
    "print(confusion_matrix(y_test, y_test_pred_adjusted))\n"
   ]
  },
  {
   "cell_type": "code",
   "execution_count": null,
   "id": "6ed5565a-0d3c-47a7-aab3-1e34e67dad18",
   "metadata": {
    "id": "6ed5565a-0d3c-47a7-aab3-1e34e67dad18"
   },
   "outputs": [],
   "source": [
    "import pickle\n"
   ]
  },
  {
   "cell_type": "code",
   "execution_count": null,
   "id": "b6d0ce66-f8ad-4c44-bb6a-95fe6bb4208c",
   "metadata": {
    "id": "b6d0ce66-f8ad-4c44-bb6a-95fe6bb4208c"
   },
   "outputs": [],
   "source": [
    "pickle.dump(xgb_best_model, open('xgb_best_model.sav', 'wb'))\n"
   ]
  },
  {
   "cell_type": "code",
   "execution_count": null,
   "id": "b0708d81-1b27-40b8-a711-b5211de65776",
   "metadata": {
    "id": "b0708d81-1b27-40b8-a711-b5211de65776"
   },
   "outputs": [],
   "source": [
    "pickle.dump(scaler, open('scaler.sav', 'wb'))"
   ]
  },
  {
   "cell_type": "code",
   "execution_count": null,
   "id": "54092297-37cb-45a6-8cee-01586e5ce718",
   "metadata": {
    "id": "54092297-37cb-45a6-8cee-01586e5ce718"
   },
   "outputs": [],
   "source": [
    "pickle.dump(had_angina_label, open('had_angina_label.sav', 'wb'))  # Label encoded\n"
   ]
  },
  {
   "cell_type": "code",
   "execution_count": null,
   "id": "ca4cfcea-e45d-40bd-9f88-b368e21ad4cb",
   "metadata": {
    "id": "ca4cfcea-e45d-40bd-9f88-b368e21ad4cb"
   },
   "outputs": [],
   "source": [
    "pickle.dump(age_category_ohe, open('age_category_ohe.sav', 'wb'))  # One-hot encoder\n"
   ]
  },
  {
   "cell_type": "code",
   "execution_count": null,
   "id": "6e62821d-a648-4f8d-abf9-e061300ae9e8",
   "metadata": {
    "id": "6e62821d-a648-4f8d-abf9-e061300ae9e8"
   },
   "outputs": [],
   "source": [
    "pickle.dump(had_diabetes_ohe, open('had_diabetes_ohe.sav', 'wb'))  # One-hot encoder\n"
   ]
  },
  {
   "cell_type": "code",
   "execution_count": null,
   "id": "cb6f0acc-0469-4cd3-9d9a-e79b39257d75",
   "metadata": {
    "id": "cb6f0acc-0469-4cd3-9d9a-e79b39257d75"
   },
   "outputs": [],
   "source": [
    "\n",
    "pickle.dump(sex_label, open('sex_label.sav', 'wb'))  # Label encoded"
   ]
  },
  {
   "cell_type": "code",
   "execution_count": null,
   "id": "55c9d8d7-d5a1-45d1-ac6b-321af148b383",
   "metadata": {
    "id": "55c9d8d7-d5a1-45d1-ac6b-321af148b383"
   },
   "outputs": [],
   "source": [
    "pickle.dump(had_arthritis_label, open('had_arthritis_label.sav', 'wb'))  # Label encoded"
   ]
  },
  {
   "cell_type": "code",
   "execution_count": null,
   "id": "ebd65d44-28b8-4bd5-ab93-c377b89782b9",
   "metadata": {
    "id": "ebd65d44-28b8-4bd5-ab93-c377b89782b9",
    "outputId": "c2d9baa0-31a7-4350-e800-4196d89ee384"
   },
   "outputs": [],
   "source": [
    "x_train_scaled.columns"
   ]
  },
  {
   "cell_type": "code",
   "execution_count": null,
   "id": "0d36c4f5-f41f-466f-a9c6-58e909493b93",
   "metadata": {
    "id": "0d36c4f5-f41f-466f-a9c6-58e909493b93",
    "outputId": "f5182f89-182f-450a-d187-bcc955c7ff5f"
   },
   "outputs": [],
   "source": [
    "x_train_scaled.head()"
   ]
  },
  {
   "cell_type": "code",
   "execution_count": null,
   "id": "63ec1a30-5fdf-4094-9db7-03c6a6af5da9",
   "metadata": {
    "id": "63ec1a30-5fdf-4094-9db7-03c6a6af5da9",
    "outputId": "31473fd0-5437-4663-ae06-b7d6fca8ea98"
   },
   "outputs": [],
   "source": [
    "pip list\n"
   ]
  },
  {
   "cell_type": "code",
   "execution_count": null,
   "id": "ecc37bce-7766-4263-8a78-82989ef82e52",
   "metadata": {
    "id": "ecc37bce-7766-4263-8a78-82989ef82e52",
    "outputId": "bd5cdae0-6115-4022-fffc-00f01cf6f63e"
   },
   "outputs": [],
   "source": [
    "scaler.feature_names_in_"
   ]
  },
  {
   "cell_type": "code",
   "execution_count": null,
   "id": "a55ced68-d4f8-4144-a95f-2611f026bc28",
   "metadata": {
    "id": "a55ced68-d4f8-4144-a95f-2611f026bc28",
    "outputId": "b6ee8914-7c5f-418e-a648-3294d64860f7"
   },
   "outputs": [],
   "source": [
    "!python --version\n"
   ]
  }
 ],
 "metadata": {
  "colab": {
   "provenance": []
  },
  "kernelspec": {
   "display_name": "Python [conda env:base] *",
   "language": "python",
   "name": "conda-base-py"
  },
  "language_info": {
   "codemirror_mode": {
    "name": "ipython",
    "version": 3
   },
   "file_extension": ".py",
   "mimetype": "text/x-python",
   "name": "python",
   "nbconvert_exporter": "python",
   "pygments_lexer": "ipython3",
   "version": "3.12.7"
  }
 },
 "nbformat": 4,
 "nbformat_minor": 5
}
